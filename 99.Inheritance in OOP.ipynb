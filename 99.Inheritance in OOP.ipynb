{
 "cells": [
  {
   "cell_type": "markdown",
   "metadata": {},
   "source": [
    "# Inheritance in OOP"
   ]
  },
  {
   "cell_type": "markdown",
   "metadata": {},
   "source": [
    "Inheritance allows us to define a class that inherits all the methods and properties from another class. Parent class is the class being inherited from, also called base class. Child class is the class that inherits from another class, also called derived class.\n",
    "\n",
    "- non private attribute\n",
    "- non private methods"
   ]
  },
  {
   "cell_type": "code",
   "execution_count": 2,
   "metadata": {},
   "outputs": [],
   "source": [
    "class User: #parent class\n",
    "  def __init__(self):\n",
    "    self.name = \"Bappy\"\n",
    "    self.gender = \"Male\"\n",
    "\n",
    "  def login(self):\n",
    "    print(\"Login Done!\")\n",
    "\n",
    "  def register(self):\n",
    "    print(\"register Done!\")\n",
    "\n",
    "\n",
    "\n",
    "class Student(User): #child class\n",
    "  def __init__(self):\n",
    "    self.rollno = 12\n",
    "\n",
    "  def enroll(self):\n",
    "    print(\"Enrolled the course!\")\n",
    "\n",
    "\n",
    "\n",
    "class Instructor(User): #child class\n",
    "  def __init__(self):\n",
    "    self.idno = 120\n",
    "\n",
    "  def create(self):\n",
    "    print(\"created the course!\")\n"
   ]
  },
  {
   "cell_type": "code",
   "execution_count": 3,
   "metadata": {},
   "outputs": [],
   "source": [
    "s = Student()"
   ]
  },
  {
   "cell_type": "code",
   "execution_count": 4,
   "metadata": {},
   "outputs": [
    {
     "name": "stdout",
     "output_type": "stream",
     "text": [
      "Enrolled the course!\n"
     ]
    }
   ],
   "source": [
    "s.enroll()"
   ]
  },
  {
   "cell_type": "code",
   "execution_count": 5,
   "metadata": {},
   "outputs": [
    {
     "name": "stdout",
     "output_type": "stream",
     "text": [
      "Login Done!\n"
     ]
    }
   ],
   "source": [
    "s.login()"
   ]
  },
  {
   "cell_type": "code",
   "execution_count": 6,
   "metadata": {},
   "outputs": [
    {
     "name": "stdout",
     "output_type": "stream",
     "text": [
      "register Done!\n"
     ]
    }
   ],
   "source": [
    "s.register()"
   ]
  },
  {
   "cell_type": "code",
   "execution_count": 7,
   "metadata": {},
   "outputs": [
    {
     "name": "stdout",
     "output_type": "stream",
     "text": [
      "created the course!\n",
      "Login Done!\n"
     ]
    }
   ],
   "source": [
    "i = Instructor()\n",
    "i.create()\n",
    "i.login()"
   ]
  },
  {
   "cell_type": "code",
   "execution_count": 12,
   "metadata": {},
   "outputs": [],
   "source": [
    "class User: #parent class\n",
    "  def __init__(self):\n",
    "    self.name = \"Bappy\"\n",
    "    self.gender = \"Male\"\n",
    "\n",
    "  def login(self):\n",
    "    print(\"Login Done!\")\n",
    "\n",
    "  def register(self):\n",
    "    print(\"register Done!\")\n",
    "\n",
    "\n",
    "\n",
    "class Student(User): #child class\n",
    "  def __init__(self):\n",
    "    self.rollno = 12\n",
    "\n",
    "  def enroll(self):\n",
    "    print(\"Enrolled the course!\")\n"
   ]
  },
  {
   "cell_type": "code",
   "execution_count": 13,
   "metadata": {},
   "outputs": [
    {
     "data": {
      "text/plain": [
       "12"
      ]
     },
     "execution_count": 13,
     "metadata": {},
     "output_type": "execute_result"
    }
   ],
   "source": [
    "s = Student()\n",
    "s.rollno"
   ]
  },
  {
   "cell_type": "code",
   "execution_count": null,
   "metadata": {},
   "outputs": [],
   "source": []
  }
 ],
 "metadata": {
  "kernelspec": {
   "display_name": "base",
   "language": "python",
   "name": "python3"
  },
  "language_info": {
   "codemirror_mode": {
    "name": "ipython",
    "version": 3
   },
   "file_extension": ".py",
   "mimetype": "text/x-python",
   "name": "python",
   "nbconvert_exporter": "python",
   "pygments_lexer": "ipython3",
   "version": "3.12.4"
  }
 },
 "nbformat": 4,
 "nbformat_minor": 2
}
