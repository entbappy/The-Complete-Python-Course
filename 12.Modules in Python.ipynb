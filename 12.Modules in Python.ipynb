{
 "cells": [
  {
   "cell_type": "markdown",
   "metadata": {},
   "source": [
    "1. Builtins Module / Package\n",
    "2. External Module / Package"
   ]
  },
  {
   "cell_type": "markdown",
   "metadata": {},
   "source": [
    "# Builtins Module / Package\n",
    "- math\n",
    "- keywords\n",
    "- random\n",
    "- datetime"
   ]
  },
  {
   "cell_type": "code",
   "execution_count": 4,
   "metadata": {},
   "outputs": [
    {
     "data": {
      "text/plain": [
       "14.0"
      ]
     },
     "execution_count": 4,
     "metadata": {},
     "output_type": "execute_result"
    }
   ],
   "source": [
    "import math\n",
    "\n",
    "math.sqrt(196)"
   ]
  },
  {
   "cell_type": "code",
   "execution_count": 5,
   "metadata": {},
   "outputs": [
    {
     "data": {
      "text/plain": [
       "24"
      ]
     },
     "execution_count": 5,
     "metadata": {},
     "output_type": "execute_result"
    }
   ],
   "source": [
    "math.factorial(4)"
   ]
  },
  {
   "cell_type": "code",
   "execution_count": 7,
   "metadata": {},
   "outputs": [
    {
     "name": "stdout",
     "output_type": "stream",
     "text": [
      "['False', 'None', 'True', 'and', 'as', 'assert', 'async', 'await', 'break', 'class', 'continue', 'def', 'del', 'elif', 'else', 'except', 'finally', 'for', 'from', 'global', 'if', 'import', 'in', 'is', 'lambda', 'nonlocal', 'not', 'or', 'pass', 'raise', 'return', 'try', 'while', 'with', 'yield']\n"
     ]
    }
   ],
   "source": [
    "import keyword\n",
    "\n",
    "print(keyword.kwlist)"
   ]
  },
  {
   "cell_type": "code",
   "execution_count": 10,
   "metadata": {},
   "outputs": [
    {
     "name": "stdout",
     "output_type": "stream",
     "text": [
      "47\n"
     ]
    }
   ],
   "source": [
    "import random\n",
    "\n",
    "print(random.randint(1,100))"
   ]
  },
  {
   "cell_type": "code",
   "execution_count": 12,
   "metadata": {},
   "outputs": [
    {
     "name": "stdout",
     "output_type": "stream",
     "text": [
      "2024-08-02 10:43:15.654995\n"
     ]
    }
   ],
   "source": [
    "import datetime\n",
    "print(datetime.datetime.now())"
   ]
  },
  {
   "cell_type": "code",
   "execution_count": 13,
   "metadata": {},
   "outputs": [
    {
     "name": "stdout",
     "output_type": "stream",
     "text": [
      "\n",
      "Please wait a moment while I gather a list of all available modules...\n",
      "\n"
     ]
    },
    {
     "name": "stderr",
     "output_type": "stream",
     "text": [
      "c:\\Anaconda3\\Lib\\site-packages\\paramiko\\transport.py:219: CryptographyDeprecationWarning: Blowfish has been deprecated and will be removed in a future release\n",
      "  \"class\": algorithms.Blowfish,\n",
      "c:\\Anaconda3\\Lib\\site-packages\\nltk\\twitter\\__init__.py:20: UserWarning: The twython library has not been installed. Some functionality from the twitter package will not be available.\n",
      "  warnings.warn(\n",
      "c:\\Anaconda3\\Lib\\pkgutil.py:78: UserWarning: The numpy.array_api submodule is still experimental. See NEP 47.\n",
      "  __import__(info.name)\n",
      "No QCoreApplication instance found. Application patches not applied. You have to call load_stylesheet function after instantiation of QApplication to take effect. \n"
     ]
    },
    {
     "name": "stdout",
     "output_type": "stream",
     "text": [
      "7f0197f6d050da244d93__mypyc code                math                smmap\n",
      "IPython             codecs              matplotlib          smtplib\n",
      "OpenSSL             codeop              matplotlib_inline   snappy\n",
      "PIL                 collections         mccabe              sndhdr\n",
      "PyQt5               colorama            mdit_py_plugins     sniffio\n",
      "__future__          colorcet            mdurl               snowballstemmer\n",
      "__hello__           colorsys            menuinst            socket\n",
      "__phello__          comm                mimetypes           socketserver\n",
      "_abc                commctrl            mistune             socks\n",
      "_aix_support        compileall          mkl                 sockshandler\n",
      "_argon2_cffi_bindings concurrent          mkl_fft             sortedcontainers\n",
      "_ast                conda               mmap                soupsieve\n",
      "_asyncio            conda_build         mmapfile            sphinx\n",
      "_bisect             conda_content_trust mmsystem            spyder\n",
      "_black_version      conda_env           modulefinder        spyder_kernels\n",
      "_blake2             conda_index         more_itertools      sqlalchemy\n",
      "_brotli             conda_libmamba_solver mpmath              sqlite3\n",
      "_bz2                conda_pack          msgpack             sre_compile\n",
      "_cffi_backend       conda_package_handling msilib              sre_constants\n",
      "_codecs             conda_package_streaming msvcrt              sre_parse\n",
      "_codecs_cn          conda_token         multidict           ssl\n",
      "_codecs_hk          configparser        multipledispatch    sspi\n",
      "_codecs_iso2022     constantly          multiprocessing     sspicon\n",
      "_codecs_jp          contextlib          mypy                stack_data\n",
      "_codecs_kr          contextvars         mypy_extensions     stat\n",
      "_codecs_tw          contourpy           mypyc               statistics\n",
      "_collections        cookiecutter        nacl                statsmodels\n",
      "_collections_abc    copy                navigator_updater   streamlit\n",
      "_compat_pickle      copyreg             nbclient            string\n",
      "_compression        cpuinfo             nbconvert           stringprep\n",
      "_contextvars        crypt               nbformat            struct\n",
      "_csv                cryptography        nest_asyncio        subprocess\n",
      "_ctypes             cssselect           netbios             sunau\n",
      "_ctypes_test        csv                 netrc               sympy\n",
      "_datetime           ctypes              networkx            symtable\n",
      "_decimal            curl                nltk                sys\n",
      "_distutils_hack     curses              nntplib             sysconfig\n",
      "_elementtree        cwp                 notebook            tables\n",
      "_functools          cycler              notebook_shim       tabnanny\n",
      "_hashlib            cytoolz             nt                  tabulate\n",
      "_heapq              dask                ntpath              tarfile\n",
      "_imp                dask_expr           ntsecuritycon       tblib\n",
      "_io                 dataclasses         nturl2path          telnetlib\n",
      "_json               datashader          numba               tempfile\n",
      "_locale             datetime            numbergen           tenacity\n",
      "_lsprof             dateutil            numbers             terminado\n",
      "_lzma               dbi                 numexpr             test\n",
      "_markupbase         dbm                 numpy               test_pycosat\n",
      "_md5                dde                 numpydoc            text_unidecode\n",
      "_msi                debugpy             odbc                textdistance\n",
      "_multibytecodec     decimal             opcode              textwrap\n",
      "_multiprocessing    decorator           openpyxl            this\n",
      "_nsis               defusedxml          operator            threading\n",
      "_opcode             diff_match_patch    optparse            threadpoolctl\n",
      "_operator           difflib             os                  three_merge\n",
      "_osx_support        dill                overrides           tifffile\n",
      "_overlapped         dis                 packaging           time\n",
      "_pickle             distributed         pandas              timeit\n",
      "_plotly_future_     distro              pandocfilters       timer\n",
      "_plotly_utils       docstring_to_markdown panel               tinycss2\n",
      "_py_abc             doctest             param               tkinter\n",
      "_pydatetime         docutils            paramiko            tldextract\n",
      "_pydecimal          dotenv              parsel              tlz\n",
      "_pyio               email               parso               token\n",
      "_pylong             encodings           partd               tokenize\n",
      "_pytest             ensurepip           pathlib             toml\n",
      "_queue              entrypoints         pathspec            tomli\n",
      "_random             enum                patsy               tomlkit\n",
      "_sha1               erfa                pdb                 tomllib\n",
      "_sha2               errno               perfmon             toolz\n",
      "_sha3               et_xmlfile          pexpect             tornado\n",
      "_signal             executing           pickle              tqdm\n",
      "_sitebuiltins       fastjsonschema      pickleshare         trace\n",
      "_socket             faulthandler        pickletools         traceback\n",
      "_sqlite3            filecmp             pip                 tracemalloc\n",
      "_sre                fileinput           pipes               traitlets\n",
      "_ssl                filelock            pkce                truststore\n",
      "_stat               flake8              pkg_resources       tty\n",
      "_statistics         flask               pkginfo             turtle\n",
      "_string             fnmatch             pkgutil             turtledemo\n",
      "_strptime           fontTools           platform            twisted\n",
      "_struct             fractions           platformdirs        types\n",
      "_symtable           frozendict          plistlib            typing\n",
      "_system_path        frozenlist          plotly              typing_extensions\n",
      "_testbuffer         fsspec              pluggy              tzdata\n",
      "_testcapi           ftplib              ply                 uc_micro\n",
      "_testclinic         functools           poplib              ujson\n",
      "_testconsole        gc                  posixpath           unicodedata\n",
      "_testimportmultiple genericpath         pprint              unicodedata2\n",
      "_testinternalcapi   gensim              profile             unidecode\n",
      "_testmultiphase     getopt              prometheus_client   unittest\n",
      "_testsinglephase    getpass             prompt_toolkit      urllib\n",
      "_thread             gettext             protego             urllib3\n",
      "_threading_local    git                 pstats              uu\n",
      "_tkinter            gitdb               psutil              uuid\n",
      "_tokenize           glob                pty                 venv\n",
      "_tracemalloc        graphlib            ptyprocess          w3lib\n",
      "_typing             greenlet            pure_eval           warnings\n",
      "_uuid               gzip                py                  watchdog\n",
      "_warnings           h11                 py_compile          wave\n",
      "_weakref            h5py                pyarrow             wcwidth\n",
      "_weakrefset         hashlib             pyasn1              weakref\n",
      "_win32sysloader     heapdict            pyasn1_modules      webbrowser\n",
      "_winapi             heapq               pyclbr              webencodings\n",
      "_winxptheme         hmac                pycodestyle         websocket\n",
      "_wmi                holoviews           pycosat             werkzeug\n",
      "_xxinterpchannels   html                pycparser           whatthepatch\n",
      "_xxsubinterpreters  http                pyct                wheel\n",
      "_yaml               httpcore            pycurl              widgetsnbextension\n",
      "_zoneinfo           httpx               pydantic            win2kras\n",
      "abc                 hvplot              pydantic_core       win32api\n",
      "adodbapi            hyperlink           pydeck              win32clipboard\n",
      "aext_assistant      idlelib             pydispatch          win32com\n",
      "aext_assistant_server idna                pydoc               win32con\n",
      "aext_core           imagecodecs         pydoc_data          win32console\n",
      "aext_core_server    imageio             pydocstyle          win32cred\n",
      "aext_panels         imagesize           pyexpat             win32crypt\n",
      "aext_panels_server  imaplib             pyflakes            win32cryptcon\n",
      "aext_share_notebook imblearn            pygments            win32ctypes\n",
      "aext_share_notebook_server imghdr              pylab               win32event\n",
      "aext_shared         importlib           pylint              win32evtlog\n",
      "afxres              importlib_metadata  pylint_venv         win32evtlogutil\n",
      "aifc                incremental         pyls_spyder         win32file\n",
      "aiobotocore         inflection          pylsp               win32gui\n",
      "aiohttp             iniconfig           pylsp_black         win32gui_struct\n",
      "aioitertools        inspect             pylsp_jsonrpc       win32help\n",
      "aiosignal           intake              pyodbc              win32inet\n",
      "alabaster           intervaltree        pyparsing           win32inetcon\n",
      "altair              io                  pytest              win32job\n",
      "anaconda_anon_usage ipaddress           pythoncom           win32lz\n",
      "anaconda_catalogs   ipykernel           pythonjsonlogger    win32net\n",
      "anaconda_cloud_auth ipykernel_launcher  pytoolconfig        win32netcon\n",
      "anaconda_navigator  ipython_genutils    pytz                win32pdh\n",
      "anaconda_project    ipywidgets          pyviz_comms         win32pdhquery\n",
      "annotated_types     isapi               pywin               win32pdhutil\n",
      "antigravity         isort               pywin32_bootstrap   win32pipe\n",
      "anyio               isympy              pywin32_testutil    win32print\n",
      "appdirs             itemadapter         pywintypes          win32process\n",
      "archspec            itemloaders         pywt                win32profile\n",
      "argon2              itertools           qdarkstyle          win32ras\n",
      "argparse            itsdangerous        qstylizer           win32rcparser\n",
      "array               jedi                qtawesome           win32security\n",
      "arrow               jellyfish           qtconsole           win32service\n",
      "ast                 jinja2              qtpy                win32serviceutil\n",
      "astroid             jmespath            queue               win32timezone\n",
      "astropy             joblib              queuelib            win32trace\n",
      "astropy_iers_data   json                quopri              win32traceutil\n",
      "asttokens           json5               random              win32transaction\n",
      "async_lru           jsonpatch           rasutil             win32ts\n",
      "asyncio             jsonpointer         re                  win32ui\n",
      "atexit              jsonschema          referencing         win32uiole\n",
      "atomicwrites        jsonschema_specifications regcheck            win32verstamp\n",
      "attr                jupyter             regex               win32wnet\n",
      "attrs               jupyter_client      regutil             win_inet_pton\n",
      "audioop             jupyter_console     repo_cli            winerror\n",
      "automat             jupyter_core        reprlib             winioctlcon\n",
      "autopep8            jupyter_events      requests            winnt\n",
      "babel               jupyter_lsp         requests_file       winperf\n",
      "base64              jupyter_server      requests_toolbelt   winpty\n",
      "bcrypt              jupyter_server_terminals rfc3339_validator   winreg\n",
      "bdb                 jupyterlab          rfc3986_validator   winsound\n",
      "binaryornot         jupyterlab_plotly   rich                winxpgui\n",
      "binascii            jupyterlab_pygments rlcompleter         winxptheme\n",
      "binstar_client      jupyterlab_server   rope                wrapt\n",
      "bisect              jupyterlab_widgets  rpds                wsgiref\n",
      "black               jwt                 rtree               xarray\n",
      "blackd              keyring             ruamel_yaml         xdrlib\n",
      "bleach              keyword             runpy               xlwings\n",
      "blib2to3            kiwisolver          s3fs                xlwingsjs\n",
      "blinker             lazy_loader         sched               xml\n",
      "bokeh               lazy_object_proxy   scipy               xmlrpc\n",
      "boltons             lckr_jupyterlab_variableinspector scrapy              xxlimited\n",
      "botocore            lib2to3             seaborn             xxlimited_35\n",
      "bottleneck          libarchive          secrets             xxsubtype\n",
      "brotli              libmambapy          select              xyzservices\n",
      "bs4                 lief                selectors           yaml\n",
      "builtins            linecache           semver              yapf\n",
      "bz2                 linkify_it          send2trash          yapf_third_party\n",
      "cProfile            llvmlite            service_identity    yapftests\n",
      "cachetools          lmdb                servicemanager      yarl\n",
      "calendar            locale              setuptools          zict\n",
      "certifi             locket              shelve              zipapp\n",
      "cffi                logging             shlex               zipfile\n",
      "cgi                 lxml                shutil              zipimport\n",
      "cgitb               lz4                 signal              zipp\n",
      "chardet             lzma                sipbuild            zlib\n",
      "charset_normalizer  mailbox             site                zmq\n",
      "chunk               mailcap             six                 zoneinfo\n",
      "click               markdown            skimage             zope\n",
      "cloudpickle         markdown_it         sklearn             zstandard\n",
      "cmath               markupsafe          slugify             \n",
      "cmd                 marshal             smart_open          \n",
      "\n",
      "Enter any module name to get more help.  Or, type \"modules spam\" to search\n",
      "for modules whose name or summary contain the string \"spam\".\n",
      "\n"
     ]
    }
   ],
   "source": [
    "help(\"modules\")"
   ]
  },
  {
   "cell_type": "code",
   "execution_count": null,
   "metadata": {},
   "outputs": [],
   "source": []
  }
 ],
 "metadata": {
  "kernelspec": {
   "display_name": "base",
   "language": "python",
   "name": "python3"
  },
  "language_info": {
   "codemirror_mode": {
    "name": "ipython",
    "version": 3
   },
   "file_extension": ".py",
   "mimetype": "text/x-python",
   "name": "python",
   "nbconvert_exporter": "python",
   "pygments_lexer": "ipython3",
   "version": "3.12.4"
  }
 },
 "nbformat": 4,
 "nbformat_minor": 2
}
