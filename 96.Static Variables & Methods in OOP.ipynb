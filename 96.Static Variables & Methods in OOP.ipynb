{
 "cells": [
  {
   "cell_type": "markdown",
   "metadata": {},
   "source": [
    "# Static Variables & Methods in OOP"
   ]
  },
  {
   "cell_type": "code",
   "execution_count": 37,
   "metadata": {},
   "outputs": [],
   "source": [
    "class Atm:\n",
    "  #static Variables\n",
    "  __customer_id = 0\n",
    "\n",
    "  #constructor(special function) - superpower\n",
    "  def __init__(self):\n",
    "    self.pin = \"\"\n",
    "    self.balance = 0\n",
    "    self.customer_id = Atm.__customer_id\n",
    "    Atm.__customer_id += 1\n",
    "    # self.menu()\n",
    "\n",
    "  @staticmethod\n",
    "  def get_customer_id():\n",
    "    return Atm.__customer_id\n",
    "\n",
    "\n",
    "  def menu(self):\n",
    "    user_input = input(\n",
    "        \"\"\"\n",
    "        Hi how can i help you?\n",
    "\n",
    "        1. Press 1 to create pin\n",
    "        2. Press 2 to change pin\n",
    "        3. Press 3 to check balence\n",
    "        4. Press 4 to withdraw\n",
    "        5. Anything to exit\n",
    "        \"\"\"\n",
    "    )\n",
    "\n",
    "    if user_input == '1':\n",
    "      #create a pin\n",
    "      self.create_pin()\n",
    "\n",
    "    elif user_input == '2':\n",
    "      #change pin\n",
    "      self.change_pin()\n",
    "\n",
    "    elif user_input == '3':\n",
    "      #check balnce\n",
    "      self.check_balance()\n",
    "\n",
    "    elif user_input == '4':\n",
    "      #withdraw\n",
    "      self.withdraw()\n",
    "\n",
    "    else:\n",
    "      exit()\n",
    "\n",
    "\n",
    "  def create_pin(self):\n",
    "    user_pin = input(\"Enter your pin: \")\n",
    "    self.pin = user_pin\n",
    "\n",
    "    user_balance = int(input(\"Enter Balance: \"))\n",
    "    self.balance = user_balance\n",
    "\n",
    "    print(\"Pin Created Successfully!\")\n",
    "    # self.menu()\n",
    "\n",
    "\n",
    "  def change_pin(self):\n",
    "    old_pin = input(\"Enter old pin: \")\n",
    "\n",
    "    if old_pin == self.pin:\n",
    "      #Let change the pin\n",
    "      new_pin = input(\"Enter new pin: \")\n",
    "      self.pin = new_pin\n",
    "      print(\"Pin changed Successfully!\")\n",
    "      # self.menu()\n",
    "\n",
    "    else:\n",
    "      print(\"Sorry you entered wrong pin.\")\n",
    "      # self.menu()\n",
    "\n",
    "\n",
    "\n",
    "\n",
    "  def check_balance(self):\n",
    "    user_pin = input(\"Enter your pin: \")\n",
    "    if user_pin == self.pin:\n",
    "      print(f\"Your balance is {self.balance}\")\n",
    "    else:\n",
    "      print(\"Your pin is correct, please try again\")\n",
    "    # self.menu()\n",
    "\n",
    "\n",
    "\n",
    "  def withdraw(self):\n",
    "    user_pin = input(\"Enter your pin: \")\n",
    "    if user_pin == self.pin:\n",
    "      # Allow to withdraw\n",
    "      amount = int(input(\"Enter the amount: \"))\n",
    "      if amount <= self.balance:\n",
    "        self.balance = self.balance - amount\n",
    "        print(f\"withdraw successfull and the current balance is {self.balance}\")\n",
    "\n",
    "      else:\n",
    "        print(\"You have insufficient balance\")\n",
    "\n",
    "\n",
    "    else:\n",
    "      print(\"Your pin is wrong!\")\n",
    "    # self.menu()\n"
   ]
  },
  {
   "cell_type": "code",
   "execution_count": 38,
   "metadata": {},
   "outputs": [],
   "source": [
    "c1 = Atm()"
   ]
  },
  {
   "cell_type": "code",
   "execution_count": 39,
   "metadata": {},
   "outputs": [
    {
     "data": {
      "text/plain": [
       "1"
      ]
     },
     "execution_count": 39,
     "metadata": {},
     "output_type": "execute_result"
    }
   ],
   "source": [
    "Atm.get_customer_id()"
   ]
  },
  {
   "cell_type": "code",
   "execution_count": 22,
   "metadata": {},
   "outputs": [],
   "source": [
    "c2 = Atm()"
   ]
  },
  {
   "cell_type": "code",
   "execution_count": 24,
   "metadata": {},
   "outputs": [
    {
     "data": {
      "text/plain": [
       "2"
      ]
     },
     "execution_count": 24,
     "metadata": {},
     "output_type": "execute_result"
    }
   ],
   "source": [
    "Atm.customer_id"
   ]
  },
  {
   "cell_type": "code",
   "execution_count": 25,
   "metadata": {},
   "outputs": [],
   "source": [
    "c3 = Atm()"
   ]
  },
  {
   "cell_type": "code",
   "execution_count": 26,
   "metadata": {},
   "outputs": [
    {
     "data": {
      "text/plain": [
       "3"
      ]
     },
     "execution_count": 26,
     "metadata": {},
     "output_type": "execute_result"
    }
   ],
   "source": [
    "Atm.customer_id"
   ]
  },
  {
   "cell_type": "code",
   "execution_count": null,
   "metadata": {},
   "outputs": [],
   "source": []
  }
 ],
 "metadata": {
  "kernelspec": {
   "display_name": "base",
   "language": "python",
   "name": "python3"
  },
  "language_info": {
   "codemirror_mode": {
    "name": "ipython",
    "version": 3
   },
   "file_extension": ".py",
   "mimetype": "text/x-python",
   "name": "python",
   "nbconvert_exporter": "python",
   "pygments_lexer": "ipython3",
   "version": "3.12.4"
  }
 },
 "nbformat": 4,
 "nbformat_minor": 2
}
