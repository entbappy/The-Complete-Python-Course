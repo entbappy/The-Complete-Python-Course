{
 "cells": [
  {
   "cell_type": "code",
   "execution_count": 2,
   "metadata": {},
   "outputs": [
    {
     "name": "stdout",
     "output_type": "stream",
     "text": [
      "File not found\n",
      "very important code\n"
     ]
    }
   ],
   "source": [
    "try:\n",
    "    f = open(\"files/sample9.txt\", \"r\")\n",
    "except FileNotFoundError:\n",
    "    print(\"File not found\")\n",
    "\n",
    "else:\n",
    "    print(f.read())\n",
    "\n",
    "finally:\n",
    "    print(\"very important code\")"
   ]
  },
  {
   "cell_type": "code",
   "execution_count": null,
   "metadata": {},
   "outputs": [],
   "source": []
  }
 ],
 "metadata": {
  "kernelspec": {
   "display_name": "base",
   "language": "python",
   "name": "python3"
  },
  "language_info": {
   "codemirror_mode": {
    "name": "ipython",
    "version": 3
   },
   "file_extension": ".py",
   "mimetype": "text/x-python",
   "name": "python",
   "nbconvert_exporter": "python",
   "pygments_lexer": "ipython3",
   "version": "3.12.4"
  }
 },
 "nbformat": 4,
 "nbformat_minor": 2
}
