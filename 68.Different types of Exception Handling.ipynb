{
 "cells": [
  {
   "cell_type": "markdown",
   "metadata": {},
   "source": [
    "# Different types of Exception Handling"
   ]
  },
  {
   "cell_type": "code",
   "execution_count": 16,
   "metadata": {},
   "outputs": [
    {
     "name": "stdout",
     "output_type": "stream",
     "text": [
      "hello world\n",
      "8\n",
      "unsupported operand type(s) for /: 'int' and 'str'\n"
     ]
    }
   ],
   "source": [
    "# let's read a file\n",
    "try:\n",
    "    with open('files/sample.txt','r') as f:\n",
    "        print(f.read())\n",
    "\n",
    "        a = 4\n",
    "        b = 4\n",
    "        print(a+b)\n",
    "\n",
    "        # L=[1,2,3,4,5,6,7,8,9]\n",
    "        # L[100]\n",
    "\n",
    "        0/\"K\"\n",
    "\n",
    "except FileNotFoundError:\n",
    "    print(\"File not found\")\n",
    "\n",
    "except NameError:\n",
    "    print(\"variable not defined\")\n",
    "\n",
    "except IndexError:\n",
    "    print(\"Index not found\")\n",
    "\n",
    "\n",
    "except Exception as e:\n",
    "    print(e)"
   ]
  },
  {
   "cell_type": "code",
   "execution_count": 22,
   "metadata": {},
   "outputs": [
    {
     "name": "stdout",
     "output_type": "stream",
     "text": [
      "hello world\n",
      "list index out of range\n"
     ]
    }
   ],
   "source": [
    "# let's read a file\n",
    "try:\n",
    "    with open('files/sample.txt','r') as f:\n",
    "        print(f.read())\n",
    "\n",
    "        # a = 4\n",
    "        # b = 4\n",
    "        # print(a+m)\n",
    "\n",
    "        L=[1,2,3,4,5,6,7,8,9]\n",
    "        L[100]\n",
    "\n",
    "        # 0/\"K\"\n",
    "\n",
    "except Exception as e:\n",
    "    print(e.with_traceback)"
   ]
  },
  {
   "cell_type": "code",
   "execution_count": null,
   "metadata": {},
   "outputs": [],
   "source": []
  }
 ],
 "metadata": {
  "kernelspec": {
   "display_name": "base",
   "language": "python",
   "name": "python3"
  },
  "language_info": {
   "codemirror_mode": {
    "name": "ipython",
    "version": 3
   },
   "file_extension": ".py",
   "mimetype": "text/x-python",
   "name": "python",
   "nbconvert_exporter": "python",
   "pygments_lexer": "ipython3",
   "version": "3.12.4"
  }
 },
 "nbformat": 4,
 "nbformat_minor": 2
}
