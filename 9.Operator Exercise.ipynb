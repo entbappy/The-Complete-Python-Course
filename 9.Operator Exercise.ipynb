{
 "cells": [
  {
   "cell_type": "markdown",
   "id": "8dc57929-5528-432a-bfde-e2a052ae3848",
   "metadata": {},
   "source": [
    "#### Exercise:\n",
    "Find the sum of a 3 digit number entered by the user"
   ]
  },
  {
   "cell_type": "code",
   "execution_count": 44,
   "id": "627478ee-dd32-4924-9e0f-d82891ab9add",
   "metadata": {},
   "outputs": [
    {
     "name": "stdin",
     "output_type": "stream",
     "text": [
      "Enter 3 numbers to perform sum:  678\n"
     ]
    },
    {
     "name": "stdout",
     "output_type": "stream",
     "text": [
      "21\n"
     ]
    }
   ],
   "source": [
    "number = int(input(\"Enter 3 numbers to perform sum: \"))\n",
    "\n",
    "# 345%10 = 5\n",
    "a = number%10\n",
    "\n",
    "#345//10 = 34\n",
    "number = number//10\n",
    "#34%10 = 4\n",
    "b = number%10\n",
    "\n",
    "number = number//10\n",
    "#3%10 = 3\n",
    "c = number%10\n",
    "\n",
    "\n",
    "result = a + b + c\n",
    "\n",
    "print(result)"
   ]
  },
  {
   "cell_type": "code",
   "execution_count": null,
   "id": "8db9af24-0aec-468a-8a35-736f3d810e03",
   "metadata": {},
   "outputs": [],
   "source": []
  }
 ],
 "metadata": {
  "kernelspec": {
   "display_name": "Python 3 (ipykernel)",
   "language": "python",
   "name": "python3"
  },
  "language_info": {
   "codemirror_mode": {
    "name": "ipython",
    "version": 3
   },
   "file_extension": ".py",
   "mimetype": "text/x-python",
   "name": "python",
   "nbconvert_exporter": "python",
   "pygments_lexer": "ipython3",
   "version": "3.12.4"
  }
 },
 "nbformat": 4,
 "nbformat_minor": 5
}
