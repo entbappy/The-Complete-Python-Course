{
 "cells": [
  {
   "cell_type": "markdown",
   "metadata": {},
   "source": [
    "## Aggregation ( Has a relationship )\n",
    "\n",
    "one class owns other class"
   ]
  },
  {
   "cell_type": "code",
   "execution_count": 3,
   "metadata": {},
   "outputs": [],
   "source": [
    "class Customer:\n",
    "    def __init__(self,name,gender,address):\n",
    "        self.name = name\n",
    "        self.gender = gender\n",
    "        self.address = address\n",
    "\n",
    "    \n",
    "    def print_info(self):\n",
    "        print(f\"Name: {self.name}, Gender: {self.gender}, Address: {self.address.city}, {self.address.pin}, {self.address.state}\")\n",
    "\n",
    "\n",
    "class Address:\n",
    "    def __init__(self, city, pin, state):\n",
    "        self.city = city\n",
    "        self.pin = pin\n",
    "        self.state = state"
   ]
  },
  {
   "cell_type": "code",
   "execution_count": 4,
   "metadata": {},
   "outputs": [],
   "source": [
    "adds = Address(\"karnataka\", 45454545, \"Bengaluru\")\n",
    "cus = Customer(\"Bappy\", \"Male\", adds)"
   ]
  },
  {
   "cell_type": "code",
   "execution_count": 5,
   "metadata": {},
   "outputs": [
    {
     "name": "stdout",
     "output_type": "stream",
     "text": [
      "Name: Bappy, Gender: Male, Address: karnataka, 45454545, Bengaluru\n"
     ]
    }
   ],
   "source": [
    "cus.print_info()"
   ]
  },
  {
   "cell_type": "code",
   "execution_count": 6,
   "metadata": {},
   "outputs": [],
   "source": [
    "class Customer:\n",
    "    def __init__(self,name,gender,address):\n",
    "        self.name = name\n",
    "        self.gender = gender\n",
    "        self.address = address\n",
    "\n",
    "    \n",
    "    def print_info(self):\n",
    "        print(f\"Name: {self.name}, Gender: {self.gender}, Address: {self.address.__city}, {self.address.pin}, {self.address.state}\")\n",
    "\n",
    "\n",
    "class Address:\n",
    "    def __init__(self, city, pin, state):\n",
    "        self.__city = city\n",
    "        self.pin = pin\n",
    "        self.state = state"
   ]
  },
  {
   "cell_type": "code",
   "execution_count": 8,
   "metadata": {},
   "outputs": [
    {
     "ename": "AttributeError",
     "evalue": "'Address' object has no attribute '_Customer__city'",
     "output_type": "error",
     "traceback": [
      "\u001b[1;31m---------------------------------------------------------------------------\u001b[0m",
      "\u001b[1;31mAttributeError\u001b[0m                            Traceback (most recent call last)",
      "Cell \u001b[1;32mIn[8], line 3\u001b[0m\n\u001b[0;32m      1\u001b[0m adds \u001b[38;5;241m=\u001b[39m Address(\u001b[38;5;124m\"\u001b[39m\u001b[38;5;124mkarnataka\u001b[39m\u001b[38;5;124m\"\u001b[39m, \u001b[38;5;241m45454545\u001b[39m, \u001b[38;5;124m\"\u001b[39m\u001b[38;5;124mBengaluru\u001b[39m\u001b[38;5;124m\"\u001b[39m)\n\u001b[0;32m      2\u001b[0m cus \u001b[38;5;241m=\u001b[39m Customer(\u001b[38;5;124m\"\u001b[39m\u001b[38;5;124mBappy\u001b[39m\u001b[38;5;124m\"\u001b[39m, \u001b[38;5;124m\"\u001b[39m\u001b[38;5;124mMale\u001b[39m\u001b[38;5;124m\"\u001b[39m, adds)\n\u001b[1;32m----> 3\u001b[0m cus\u001b[38;5;241m.\u001b[39mprint_info()\n",
      "Cell \u001b[1;32mIn[6], line 9\u001b[0m, in \u001b[0;36mCustomer.print_info\u001b[1;34m(self)\u001b[0m\n\u001b[0;32m      8\u001b[0m \u001b[38;5;28;01mdef\u001b[39;00m \u001b[38;5;21mprint_info\u001b[39m(\u001b[38;5;28mself\u001b[39m):\n\u001b[1;32m----> 9\u001b[0m     \u001b[38;5;28mprint\u001b[39m(\u001b[38;5;124mf\u001b[39m\u001b[38;5;124m\"\u001b[39m\u001b[38;5;124mName: \u001b[39m\u001b[38;5;132;01m{\u001b[39;00m\u001b[38;5;28mself\u001b[39m\u001b[38;5;241m.\u001b[39mname\u001b[38;5;132;01m}\u001b[39;00m\u001b[38;5;124m, Gender: \u001b[39m\u001b[38;5;132;01m{\u001b[39;00m\u001b[38;5;28mself\u001b[39m\u001b[38;5;241m.\u001b[39mgender\u001b[38;5;132;01m}\u001b[39;00m\u001b[38;5;124m, Address: \u001b[39m\u001b[38;5;132;01m{\u001b[39;00m\u001b[38;5;28mself\u001b[39m\u001b[38;5;241m.\u001b[39maddress\u001b[38;5;241m.\u001b[39m__city\u001b[38;5;132;01m}\u001b[39;00m\u001b[38;5;124m, \u001b[39m\u001b[38;5;132;01m{\u001b[39;00m\u001b[38;5;28mself\u001b[39m\u001b[38;5;241m.\u001b[39maddress\u001b[38;5;241m.\u001b[39mpin\u001b[38;5;132;01m}\u001b[39;00m\u001b[38;5;124m, \u001b[39m\u001b[38;5;132;01m{\u001b[39;00m\u001b[38;5;28mself\u001b[39m\u001b[38;5;241m.\u001b[39maddress\u001b[38;5;241m.\u001b[39mstate\u001b[38;5;132;01m}\u001b[39;00m\u001b[38;5;124m\"\u001b[39m)\n",
      "\u001b[1;31mAttributeError\u001b[0m: 'Address' object has no attribute '_Customer__city'"
     ]
    }
   ],
   "source": [
    "adds = Address(\"karnataka\", 45454545, \"Bengaluru\")\n",
    "cus = Customer(\"Bappy\", \"Male\", adds)\n",
    "cus.print_info()"
   ]
  },
  {
   "cell_type": "code",
   "execution_count": 9,
   "metadata": {},
   "outputs": [],
   "source": [
    "class Customer:\n",
    "    def __init__(self,name,gender,address):\n",
    "        self.name = name\n",
    "        self.gender = gender\n",
    "        self.address = address\n",
    "\n",
    "    \n",
    "    def print_info(self):\n",
    "        print(f\"Name: {self.name}, Gender: {self.gender}, Address: {self.address.get_city()}, {self.address.pin}, {self.address.state}\")\n",
    "\n",
    "\n",
    "class Address:\n",
    "    def __init__(self, city, pin, state):\n",
    "        self.__city = city\n",
    "        self.pin = pin\n",
    "        self.state = state\n",
    "\n",
    "    \n",
    "    def get_city(self):\n",
    "        return self.__city"
   ]
  },
  {
   "cell_type": "code",
   "execution_count": 10,
   "metadata": {},
   "outputs": [
    {
     "name": "stdout",
     "output_type": "stream",
     "text": [
      "Name: Bappy, Gender: Male, Address: karnataka, 45454545, Bengaluru\n"
     ]
    }
   ],
   "source": [
    "adds = Address(\"karnataka\", 45454545, \"Bengaluru\")\n",
    "cus = Customer(\"Bappy\", \"Male\", adds)\n",
    "cus.print_info()"
   ]
  },
  {
   "cell_type": "code",
   "execution_count": 11,
   "metadata": {},
   "outputs": [],
   "source": [
    "class Customer:\n",
    "    def __init__(self,name,gender,address):\n",
    "        self.name = name\n",
    "        self.gender = gender\n",
    "        self.address = address\n",
    "\n",
    "    \n",
    "    def print_info(self):\n",
    "        print(f\"Name: {self.name}, Gender: {self.gender}, Address: {self.address._Address__city}, {self.address.pin}, {self.address.state}\")\n",
    "\n",
    "\n",
    "class Address:\n",
    "    def __init__(self, city, pin, state):\n",
    "        self.__city = city\n",
    "        self.pin = pin\n",
    "        self.state = state\n",
    "\n",
    "    "
   ]
  },
  {
   "cell_type": "code",
   "execution_count": 12,
   "metadata": {},
   "outputs": [
    {
     "name": "stdout",
     "output_type": "stream",
     "text": [
      "Name: Bappy, Gender: Male, Address: karnataka, 45454545, Bengaluru\n"
     ]
    }
   ],
   "source": [
    "adds = Address(\"karnataka\", 45454545, \"Bengaluru\")\n",
    "cus = Customer(\"Bappy\", \"Male\", adds)\n",
    "cus.print_info()"
   ]
  },
  {
   "cell_type": "markdown",
   "metadata": {},
   "source": [
    "- non private attribute\n",
    "- non private methods"
   ]
  },
  {
   "cell_type": "code",
   "execution_count": null,
   "metadata": {},
   "outputs": [],
   "source": []
  }
 ],
 "metadata": {
  "kernelspec": {
   "display_name": "base",
   "language": "python",
   "name": "python3"
  },
  "language_info": {
   "codemirror_mode": {
    "name": "ipython",
    "version": 3
   },
   "file_extension": ".py",
   "mimetype": "text/x-python",
   "name": "python",
   "nbconvert_exporter": "python",
   "pygments_lexer": "ipython3",
   "version": "3.12.4"
  }
 },
 "nbformat": 4,
 "nbformat_minor": 2
}
