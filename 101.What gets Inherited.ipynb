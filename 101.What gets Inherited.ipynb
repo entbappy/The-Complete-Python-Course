{
 "cells": [
  {
   "cell_type": "code",
   "execution_count": 1,
   "metadata": {},
   "outputs": [
    {
     "name": "stdout",
     "output_type": "stream",
     "text": [
      "Inside Phone constructor\n",
      "Buying a Phone\n"
     ]
    }
   ],
   "source": [
    "class Phone:\n",
    "  def __init__(self, price, brand, camera):\n",
    "    print(\"Inside Phone constructor\")\n",
    "    self.price = price\n",
    "    self.brand = brand\n",
    "    self.camera = camera\n",
    "\n",
    "\n",
    "  def buy(self):\n",
    "    print(\"Buying a Phone\")\n",
    "\n",
    "\n",
    "class SmartPhone(Phone):\n",
    "  pass\n",
    "\n",
    "S  = SmartPhone(200000, \"apple\", 3)\n",
    "S.buy()"
   ]
  },
  {
   "cell_type": "code",
   "execution_count": 3,
   "metadata": {},
   "outputs": [
    {
     "name": "stdout",
     "output_type": "stream",
     "text": [
      "Inside SmartPhone constructor\n"
     ]
    },
    {
     "ename": "AttributeError",
     "evalue": "'SmartPhone' object has no attribute 'brand'",
     "output_type": "error",
     "traceback": [
      "\u001b[1;31m---------------------------------------------------------------------------\u001b[0m",
      "\u001b[1;31mAttributeError\u001b[0m                            Traceback (most recent call last)",
      "Cell \u001b[1;32mIn[3], line 21\u001b[0m\n\u001b[0;32m     17\u001b[0m     \u001b[38;5;28mprint\u001b[39m(\u001b[38;5;124m\"\u001b[39m\u001b[38;5;124mInside SmartPhone constructor\u001b[39m\u001b[38;5;124m\"\u001b[39m)\n\u001b[0;32m     20\u001b[0m S  \u001b[38;5;241m=\u001b[39m SmartPhone(\u001b[38;5;124m\"\u001b[39m\u001b[38;5;124mAndroid\u001b[39m\u001b[38;5;124m\"\u001b[39m, \u001b[38;5;241m8\u001b[39m)\n\u001b[1;32m---> 21\u001b[0m S\u001b[38;5;241m.\u001b[39mbrand\n",
      "\u001b[1;31mAttributeError\u001b[0m: 'SmartPhone' object has no attribute 'brand'"
     ]
    }
   ],
   "source": [
    "class Phone:\n",
    "  def __init__(self, price, brand, camera):\n",
    "    print(\"Inside Phone constructor\")\n",
    "    self.price = price\n",
    "    self.brand = brand\n",
    "    self.camera = camera\n",
    "\n",
    "\n",
    "  def buy(self):\n",
    "    print(\"Buying a Phone\")\n",
    "\n",
    "\n",
    "class SmartPhone(Phone):\n",
    "  def __init__(self, os, ram):\n",
    "    self.os = os\n",
    "    self.ram = ram\n",
    "    print(\"Inside SmartPhone constructor\")\n",
    "\n",
    "\n",
    "S  = SmartPhone(\"Android\", 8)\n",
    "S.brand"
   ]
  },
  {
   "cell_type": "code",
   "execution_count": 8,
   "metadata": {},
   "outputs": [
    {
     "name": "stdout",
     "output_type": "stream",
     "text": [
      "Inside Phone constructor\n",
      "200000\n"
     ]
    }
   ],
   "source": [
    "class Phone:\n",
    "  def __init__(self, price, brand, camera):\n",
    "    print(\"Inside Phone constructor\")\n",
    "    self.__price = price\n",
    "    self.brand = brand\n",
    "    self.camera = camera\n",
    "\n",
    "  def get_price(self):\n",
    "     return self.__price\n",
    "\n",
    "\n",
    "  def buy(self):\n",
    "    print(\"Buying a Phone\")\n",
    "\n",
    "\n",
    "class SmartPhone(Phone):\n",
    "    def print_price(self):\n",
    "       print(self.get_price())\n",
    "\n",
    "\n",
    "S  = SmartPhone(200000, \"apple\", 3)\n",
    "S.print_price()"
   ]
  },
  {
   "cell_type": "code",
   "execution_count": null,
   "metadata": {},
   "outputs": [],
   "source": []
  }
 ],
 "metadata": {
  "kernelspec": {
   "display_name": "base",
   "language": "python",
   "name": "python3"
  },
  "language_info": {
   "codemirror_mode": {
    "name": "ipython",
    "version": 3
   },
   "file_extension": ".py",
   "mimetype": "text/x-python",
   "name": "python",
   "nbconvert_exporter": "python",
   "pygments_lexer": "ipython3",
   "version": "3.12.4"
  }
 },
 "nbformat": 4,
 "nbformat_minor": 2
}
