{
 "cells": [
  {
   "cell_type": "markdown",
   "metadata": {},
   "source": [
    "# Types of Inheritance in OOP\n",
    "\n",
    "- Single Inheritance\n",
    "- Multilevel Inheritance\n",
    "- Hierachical Inheritance\n",
    "- Multiple Inheritance"
   ]
  },
  {
   "cell_type": "code",
   "execution_count": 5,
   "metadata": {},
   "outputs": [
    {
     "name": "stdout",
     "output_type": "stream",
     "text": [
      "Inside Phone constructor\n",
      "Buying a phone\n",
      "Product customer review\n"
     ]
    }
   ],
   "source": [
    "# Multilevel Inheritance\n",
    "\n",
    "\n",
    "#Gradfather\n",
    "class Product:\n",
    "  def review(self):\n",
    "    print(\"Product customer review\")\n",
    "\n",
    "\n",
    "#Father\n",
    "class Phone(Product):\n",
    "  def __init__(self, price, brand, camera):\n",
    "    print(\"Inside Phone constructor\")\n",
    "    self.__price = price\n",
    "    self.brand = brand\n",
    "    self.camera = camera\n",
    "\n",
    "\n",
    "  def buy(self):\n",
    "    print(\"Buying a phone\")\n",
    "\n",
    "\n",
    "#child\n",
    "class SmartPhone(Phone):\n",
    "  pass\n",
    "\n",
    "\n",
    "\n",
    "S  = SmartPhone(200000, \"Samsung\", 3)\n",
    "S.buy()\n",
    "S.review()"
   ]
  },
  {
   "cell_type": "code",
   "execution_count": 6,
   "metadata": {},
   "outputs": [
    {
     "name": "stdout",
     "output_type": "stream",
     "text": [
      "Inside Phone constructor\n",
      "Buying a phone\n"
     ]
    }
   ],
   "source": [
    "# Hierarchical\n",
    "\n",
    "#parent\n",
    "class Phone:\n",
    "  def __init__(self, price, brand, camera):\n",
    "    print(\"Inside Phone constructor\")\n",
    "    self.__price = price\n",
    "    self.brand = brand\n",
    "    self.camera = camera\n",
    "\n",
    "\n",
    "  def buy(self):\n",
    "    print(\"Buying a phone\")\n",
    "\n",
    "\n",
    "#child\n",
    "class SmartPhone(Phone):\n",
    "  pass\n",
    "\n",
    "#child\n",
    "class FeaturePhone(Phone):\n",
    "  pass\n",
    "\n",
    "\n",
    "\n",
    "S = SmartPhone(100000, \"apple\", \"3\")\n",
    "S.buy()"
   ]
  },
  {
   "cell_type": "code",
   "execution_count": 7,
   "metadata": {},
   "outputs": [
    {
     "name": "stdout",
     "output_type": "stream",
     "text": [
      "Inside Phone constructor\n",
      "Buying a phone\n"
     ]
    }
   ],
   "source": [
    "F = FeaturePhone(100000, \"apple\", \"3\")\n",
    "F.buy()"
   ]
  },
  {
   "cell_type": "code",
   "execution_count": 8,
   "metadata": {},
   "outputs": [
    {
     "name": "stdout",
     "output_type": "stream",
     "text": [
      "Inside Phone constructor\n",
      "Buying a phone\n",
      "Product customer review\n"
     ]
    }
   ],
   "source": [
    "# Mutiple\n",
    "# parent\n",
    "class Phone:\n",
    "  def __init__(self, price, brand, camera):\n",
    "    print(\"Inside Phone constructor\")\n",
    "    self.__price = price\n",
    "    self.brand = brand\n",
    "    self.camera = camera\n",
    "\n",
    "\n",
    "  def buy(self):\n",
    "    print(\"Buying a phone\")\n",
    "\n",
    "#parent\n",
    "class Product:\n",
    "\n",
    "  def __init__(self):\n",
    "    pass\n",
    "\n",
    "  def review(self):\n",
    "    print(\"Product customer review\")\n",
    "\n",
    "#child\n",
    "class SmartPhone(Phone, Product):\n",
    "  pass\n",
    "\n",
    "\n",
    "\n",
    "\n",
    "S = SmartPhone(100000, \"apple\", \"3\")\n",
    "S.buy()\n",
    "S.review()"
   ]
  },
  {
   "cell_type": "code",
   "execution_count": null,
   "metadata": {},
   "outputs": [],
   "source": []
  }
 ],
 "metadata": {
  "kernelspec": {
   "display_name": "base",
   "language": "python",
   "name": "python3"
  },
  "language_info": {
   "codemirror_mode": {
    "name": "ipython",
    "version": 3
   },
   "file_extension": ".py",
   "mimetype": "text/x-python",
   "name": "python",
   "nbconvert_exporter": "python",
   "pygments_lexer": "ipython3",
   "version": "3.12.4"
  }
 },
 "nbformat": 4,
 "nbformat_minor": 2
}
