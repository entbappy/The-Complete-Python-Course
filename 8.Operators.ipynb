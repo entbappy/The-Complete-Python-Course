{
 "cells": [
  {
   "cell_type": "markdown",
   "id": "603df4d7-2527-4e55-9813-d4820e7ca50d",
   "metadata": {},
   "source": [
    "## Operators in Python\r\n",
    "\r\n",
    "- Arithmetic Operators\r\n",
    "- Relational Operators\r\n",
    "- Logical Operators\r\n",
    "- Bitwise Operators\r\n",
    "- Assignment Operators\r\n",
    "- Membership Operators"
   ]
  },
  {
   "cell_type": "markdown",
   "id": "fd937d41-8fee-4005-82f8-bd77e087fbf6",
   "metadata": {},
   "source": [
    "### # Arithmetic Operators"
   ]
  },
  {
   "cell_type": "code",
   "execution_count": 2,
   "id": "abd1c63a-05ac-4a91-9f37-5ba297e93573",
   "metadata": {},
   "outputs": [
    {
     "name": "stdout",
     "output_type": "stream",
     "text": [
      "7\n"
     ]
    }
   ],
   "source": [
    "print(4+3)"
   ]
  },
  {
   "cell_type": "code",
   "execution_count": 5,
   "id": "abb52b83-18fc-4387-b9d2-cc6522912b7e",
   "metadata": {},
   "outputs": [
    {
     "name": "stdout",
     "output_type": "stream",
     "text": [
      "1\n"
     ]
    }
   ],
   "source": [
    "print(4-3)"
   ]
  },
  {
   "cell_type": "code",
   "execution_count": 7,
   "id": "b5325475-d0ad-49ee-9a57-9368058cc250",
   "metadata": {},
   "outputs": [
    {
     "name": "stdout",
     "output_type": "stream",
     "text": [
      "12\n"
     ]
    }
   ],
   "source": [
    "print(4*3)"
   ]
  },
  {
   "cell_type": "code",
   "execution_count": 38,
   "id": "b2126179-2499-4a96-a188-ad625d5d0eda",
   "metadata": {},
   "outputs": [
    {
     "name": "stdout",
     "output_type": "stream",
     "text": [
      "2.0\n"
     ]
    }
   ],
   "source": [
    "print(4/2)"
   ]
  },
  {
   "cell_type": "code",
   "execution_count": 11,
   "id": "7f1e0138-975b-4c47-9f68-7e77e6b5864e",
   "metadata": {},
   "outputs": [
    {
     "name": "stdout",
     "output_type": "stream",
     "text": [
      "2\n"
     ]
    }
   ],
   "source": [
    "print(4//2)"
   ]
  },
  {
   "cell_type": "code",
   "execution_count": 40,
   "id": "38f0c8e0-8b13-42d1-80db-309e9e546094",
   "metadata": {},
   "outputs": [
    {
     "name": "stdout",
     "output_type": "stream",
     "text": [
      "0\n"
     ]
    }
   ],
   "source": [
    "print(4%2)"
   ]
  },
  {
   "cell_type": "code",
   "execution_count": 15,
   "id": "fefad0da-ce14-4e50-8a2c-c1892a745ea9",
   "metadata": {},
   "outputs": [
    {
     "name": "stdout",
     "output_type": "stream",
     "text": [
      "25\n"
     ]
    }
   ],
   "source": [
    "print(5**2)"
   ]
  },
  {
   "cell_type": "markdown",
   "id": "f2e2accf-a26f-4fc4-9c6a-e041248d0e8a",
   "metadata": {},
   "source": [
    "#### Relational Operators"
   ]
  },
  {
   "cell_type": "code",
   "execution_count": 18,
   "id": "ee3c51d0-2bd8-43ff-aabf-1c04aa3140aa",
   "metadata": {},
   "outputs": [
    {
     "name": "stdout",
     "output_type": "stream",
     "text": [
      "False\n"
     ]
    }
   ],
   "source": [
    "print(4>5)"
   ]
  },
  {
   "cell_type": "code",
   "execution_count": 20,
   "id": "d5e507d5-7762-4ba7-a22b-0c69a4585046",
   "metadata": {},
   "outputs": [
    {
     "name": "stdout",
     "output_type": "stream",
     "text": [
      "True\n"
     ]
    }
   ],
   "source": [
    "print(4<5)"
   ]
  },
  {
   "cell_type": "code",
   "execution_count": 22,
   "id": "b3df7ad9-e9c1-4d2a-a8d4-3606d89ff1ad",
   "metadata": {},
   "outputs": [
    {
     "name": "stdout",
     "output_type": "stream",
     "text": [
      "True\n"
     ]
    }
   ],
   "source": [
    "print(4>=4)"
   ]
  },
  {
   "cell_type": "code",
   "execution_count": 24,
   "id": "400f7e43-6f0e-475c-aa80-1b6a318c707a",
   "metadata": {},
   "outputs": [
    {
     "name": "stdout",
     "output_type": "stream",
     "text": [
      "True\n"
     ]
    }
   ],
   "source": [
    "print(4<=4)"
   ]
  },
  {
   "cell_type": "code",
   "execution_count": 26,
   "id": "10a5cb52-ba16-427e-91f0-099a6592500f",
   "metadata": {},
   "outputs": [
    {
     "name": "stdout",
     "output_type": "stream",
     "text": [
      "True\n"
     ]
    }
   ],
   "source": [
    "print(4==4)"
   ]
  },
  {
   "cell_type": "code",
   "execution_count": 28,
   "id": "c62637e8-2145-4afd-9278-7dd2ca577915",
   "metadata": {},
   "outputs": [
    {
     "name": "stdout",
     "output_type": "stream",
     "text": [
      "False\n"
     ]
    }
   ],
   "source": [
    "print(4!=4)"
   ]
  },
  {
   "cell_type": "markdown",
   "id": "2fc48a27-fb55-43b0-81a1-54c81abf187b",
   "metadata": {},
   "source": [
    "#### Logical Operators"
   ]
  },
  {
   "cell_type": "code",
   "execution_count": 57,
   "id": "829aa209-52a6-42e4-909a-bc4beac44747",
   "metadata": {},
   "outputs": [
    {
     "name": "stdout",
     "output_type": "stream",
     "text": [
      "0\n"
     ]
    }
   ],
   "source": [
    "print(0 and 1)"
   ]
  },
  {
   "cell_type": "code",
   "execution_count": 63,
   "id": "30eb7e7f-258c-4315-99b7-9cebcd9a605a",
   "metadata": {},
   "outputs": [
    {
     "name": "stdout",
     "output_type": "stream",
     "text": [
      "1\n"
     ]
    }
   ],
   "source": [
    "print(0 or 1)"
   ]
  },
  {
   "cell_type": "code",
   "execution_count": 65,
   "id": "0a3b80ce-322f-4ec9-b4b1-e31edc177be2",
   "metadata": {},
   "outputs": [
    {
     "name": "stdout",
     "output_type": "stream",
     "text": [
      "False\n"
     ]
    }
   ],
   "source": [
    "print(not 1)"
   ]
  },
  {
   "cell_type": "code",
   "execution_count": 67,
   "id": "1b088b75-da41-45ca-9a71-5014e9c27a77",
   "metadata": {},
   "outputs": [
    {
     "name": "stdout",
     "output_type": "stream",
     "text": [
      "True\n"
     ]
    }
   ],
   "source": [
    "print(not 0)"
   ]
  },
  {
   "cell_type": "markdown",
   "id": "5034f229-9f7b-4885-a0a1-3b65b0fa7347",
   "metadata": {},
   "source": [
    "#### Bitwise Operators"
   ]
  },
  {
   "cell_type": "code",
   "execution_count": 70,
   "id": "cad80ed3-d2cf-4153-a240-151bb5c4adb9",
   "metadata": {},
   "outputs": [
    {
     "name": "stdout",
     "output_type": "stream",
     "text": [
      "2\n"
     ]
    }
   ],
   "source": [
    "# bitwise and\n",
    "print(2 & 3)"
   ]
  },
  {
   "cell_type": "code",
   "execution_count": 72,
   "id": "b425d81e-91e1-43e5-b9e0-f05408b04208",
   "metadata": {},
   "outputs": [
    {
     "name": "stdout",
     "output_type": "stream",
     "text": [
      "3\n"
     ]
    }
   ],
   "source": [
    "# bitwise or\n",
    "print(2 | 3)"
   ]
  },
  {
   "cell_type": "code",
   "execution_count": 74,
   "id": "9d2c1197-b65d-4f62-962f-762877ee9971",
   "metadata": {},
   "outputs": [
    {
     "name": "stdout",
     "output_type": "stream",
     "text": [
      "2\n",
      "3\n",
      "1\n",
      "-4\n",
      "1\n",
      "20\n"
     ]
    }
   ],
   "source": [
    "# bitwise and\n",
    "print(2 & 3)\n",
    "\n",
    "# bitwise or\n",
    "print(2 | 3)\n",
    "\n",
    "# bitwise xor\n",
    "print(2 ^ 3)\n",
    "\n",
    "#bitwise not\n",
    "print(~3)\n",
    "\n",
    "#right shift\n",
    "print(4 >> 2)\n",
    "\n",
    "#left shift\n",
    "print(5 << 2)"
   ]
  },
  {
   "cell_type": "markdown",
   "id": "63a466c0-a778-407c-92f6-f37c4f5533ed",
   "metadata": {},
   "source": [
    "#### Assignment Operators"
   ]
  },
  {
   "cell_type": "code",
   "execution_count": null,
   "id": "5bc4d58e-9eb4-444d-ac90-d0d21c205dd8",
   "metadata": {},
   "outputs": [],
   "source": [
    "=\n",
    "a = 2\n",
    "\n"
   ]
  },
  {
   "cell_type": "code",
   "execution_count": 85,
   "id": "277aeae3-90f9-43ad-898a-6980a26e2a95",
   "metadata": {},
   "outputs": [
    {
     "name": "stdout",
     "output_type": "stream",
     "text": [
      "3\n"
     ]
    }
   ],
   "source": [
    "a = 2\n",
    "\n",
    "a += 1\n",
    "\n",
    "print(a)"
   ]
  },
  {
   "cell_type": "markdown",
   "id": "faa9db3d-cf5f-4ecf-a9dc-2e538cbe272e",
   "metadata": {},
   "source": [
    "#### Membership Operators"
   ]
  },
  {
   "cell_type": "code",
   "execution_count": 88,
   "id": "e654b781-0d8e-4fe4-b513-b5867ae71ce7",
   "metadata": {},
   "outputs": [],
   "source": [
    "# in/not in"
   ]
  },
  {
   "cell_type": "code",
   "execution_count": 98,
   "id": "e937c23f-ef16-45b6-856d-b03885d0f49a",
   "metadata": {},
   "outputs": [
    {
     "name": "stdout",
     "output_type": "stream",
     "text": [
      "True\n"
     ]
    }
   ],
   "source": [
    "print('D' not in 'Mumbai')"
   ]
  },
  {
   "cell_type": "code",
   "execution_count": 104,
   "id": "8e0e058d-9618-4242-909e-4b3658210102",
   "metadata": {},
   "outputs": [
    {
     "name": "stdout",
     "output_type": "stream",
     "text": [
      "True\n"
     ]
    }
   ],
   "source": [
    "print(10 not in [1,2,3,4])"
   ]
  },
  {
   "cell_type": "code",
   "execution_count": null,
   "id": "078b1465-e972-4b84-ac9d-fd7df23877c7",
   "metadata": {},
   "outputs": [],
   "source": []
  }
 ],
 "metadata": {
  "kernelspec": {
   "display_name": "Python 3 (ipykernel)",
   "language": "python",
   "name": "python3"
  },
  "language_info": {
   "codemirror_mode": {
    "name": "ipython",
    "version": 3
   },
   "file_extension": ".py",
   "mimetype": "text/x-python",
   "name": "python",
   "nbconvert_exporter": "python",
   "pygments_lexer": "ipython3",
   "version": "3.12.4"
  }
 },
 "nbformat": 4,
 "nbformat_minor": 5
}
