{
 "cells": [
  {
   "cell_type": "code",
   "execution_count": 2,
   "metadata": {},
   "outputs": [
    {
     "name": "stdout",
     "output_type": "stream",
     "text": [
      "Hello\n"
     ]
    }
   ],
   "source": [
    "print(\"Hello\")"
   ]
  },
  {
   "cell_type": "code",
   "execution_count": 5,
   "metadata": {},
   "outputs": [
    {
     "name": "stdout",
     "output_type": "stream",
     "text": [
      "Invalid credentials!\n"
     ]
    }
   ],
   "source": [
    "# Login Function demo - BappyWeb\n",
    "\n",
    "\"\"\" Actual Credentials\n",
    "Email: entbappy73@gmail.com\n",
    "Password: 1234\n",
    "\"\"\"\n",
    "\n",
    "\n",
    "email = input(\"Enter your email address: \")\n",
    "password = input(\"Enter your password: \")\n",
    "\n",
    "if email == \"entbappy73@gmail.com\" and password == \"1234\":\n",
    "    print(\"Login Successful!\")\n",
    "\n",
    "else:\n",
    "    print(\"Invalid credentials!\")\n",
    "\n",
    "\n"
   ]
  },
  {
   "cell_type": "code",
   "execution_count": 3,
   "metadata": {},
   "outputs": [
    {
     "name": "stdout",
     "output_type": "stream",
     "text": [
      "Please try again!\n"
     ]
    }
   ],
   "source": [
    "# Login Function demo - BappyWeb\n",
    "\n",
    "\"\"\" Actual Credentials\n",
    "Email: entbappy73@gmail.com\n",
    "Password: 1234\n",
    "\"\"\"\n",
    "\n",
    "\n",
    "email = input(\"Enter your email address: \")\n",
    "password = input(\"Enter your password: \")\n",
    "\n",
    "if email == \"entbappy73@gmail.com\" and password == \"1234\":\n",
    "    print(\"Login Successful!\")\n",
    "\n",
    "\n",
    "elif email == \"entbappy73@gmail.com\" and password != \"1234\":\n",
    "    print(\"Please try again!\")\n",
    "\n",
    "else:\n",
    "    print(\"Invalid credentials!\")\n",
    "\n",
    "\n"
   ]
  },
  {
   "cell_type": "markdown",
   "metadata": {},
   "source": [
    "### Nasted conditions"
   ]
  },
  {
   "cell_type": "code",
   "execution_count": 5,
   "metadata": {},
   "outputs": [
    {
     "name": "stdout",
     "output_type": "stream",
     "text": [
      "Please try again!\n",
      "Wrong!\n"
     ]
    }
   ],
   "source": [
    "# Login Function demo - BappyWeb\n",
    "\n",
    "\"\"\" Actual Credentials\n",
    "Email: entbappy73@gmail.com\n",
    "Password: 1234\n",
    "\"\"\"\n",
    "\n",
    "\n",
    "email = input(\"Enter your email address: \")\n",
    "password = input(\"Enter your password: \")\n",
    "\n",
    "if email == \"entbappy73@gmail.com\" and password == \"1234\":\n",
    "    print(\"Login Successful!\")\n",
    "\n",
    "\n",
    "elif email == \"entbappy73@gmail.com\" and password != \"1234\":\n",
    "    print(\"Please try again!\")\n",
    "    password = input(\"Enter the correct password again: \")\n",
    "\n",
    "    if password == \"1234\":\n",
    "        print(\"Success\")\n",
    "    else:\n",
    "        print(\"Wrong!\")\n",
    "\n",
    "else:\n",
    "    print(\"Invalid credentials!\")\n",
    "\n",
    "\n"
   ]
  },
  {
   "cell_type": "code",
   "execution_count": null,
   "metadata": {},
   "outputs": [],
   "source": [
    "if condition:\n",
    "    #write something \n",
    "\n",
    "elif:\n",
    "    #write something else\n",
    "\n",
    "else:\n",
    "    #write something else\n",
    "\n",
    "\n",
    "\n"
   ]
  },
  {
   "cell_type": "code",
   "execution_count": null,
   "metadata": {},
   "outputs": [],
   "source": []
  }
 ],
 "metadata": {
  "kernelspec": {
   "display_name": "base",
   "language": "python",
   "name": "python3"
  },
  "language_info": {
   "codemirror_mode": {
    "name": "ipython",
    "version": 3
   },
   "file_extension": ".py",
   "mimetype": "text/x-python",
   "name": "python",
   "nbconvert_exporter": "python",
   "pygments_lexer": "ipython3",
   "version": "3.12.4"
  }
 },
 "nbformat": 4,
 "nbformat_minor": 2
}
