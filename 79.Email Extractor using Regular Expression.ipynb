{
 "cells": [
  {
   "cell_type": "markdown",
   "metadata": {},
   "source": [
    "# Email Extractor using Regular Expression"
   ]
  },
  {
   "cell_type": "code",
   "execution_count": 3,
   "metadata": {},
   "outputs": [],
   "source": [
    "text = '''Cyclone Dumazile was a strong tropical cyclone in \n",
    "the South-West Indian Ocean that affected Madagascar \n",
    "and Réunion in early March 2018. Dumazile originated \n",
    "from a Cyclone low-pressure bappy@gmail.com area that formed \n",
    "near Agaléga on 27 February. It became a tropical \n",
    "disturbance on 2 March, and was named the next day \n",
    "after attaining tropical storm status. contact to\n",
    "contact77@gmail.com and alex.gray@amazon.co.uk\n",
    "'''"
   ]
  },
  {
   "cell_type": "code",
   "execution_count": 4,
   "metadata": {},
   "outputs": [],
   "source": [
    "import re"
   ]
  },
  {
   "cell_type": "code",
   "execution_count": 5,
   "metadata": {},
   "outputs": [
    {
     "name": "stdout",
     "output_type": "stream",
     "text": [
      "['bappy@gmail.com', 'contact77@gmail.com', 'alex.gray@amazon.co.uk']\n"
     ]
    },
    {
     "name": "stderr",
     "output_type": "stream",
     "text": [
      "<>:1: SyntaxWarning: invalid escape sequence '\\.'\n",
      "<>:1: SyntaxWarning: invalid escape sequence '\\.'\n",
      "C:\\Users\\Bappy Ahmed\\AppData\\Local\\Temp\\ipykernel_27692\\2192908041.py:1: SyntaxWarning: invalid escape sequence '\\.'\n",
      "  pattern = \"[a-zA-Z0-9_.+-]+@[a-zA-Z0-9-]+\\.[a-zA-Z0-9-.]+\"\n"
     ]
    }
   ],
   "source": [
    "pattern = \"[a-zA-Z0-9_.+-]+@[a-zA-Z0-9-]+\\.[a-zA-Z0-9-.]+\"\n",
    "\n",
    "emails = re.findall(pattern, text)\n",
    "print(emails)"
   ]
  },
  {
   "cell_type": "code",
   "execution_count": 7,
   "metadata": {},
   "outputs": [
    {
     "name": "stdout",
     "output_type": "stream",
     "text": [
      "bappy@gmail.com\n",
      "contact77@gmail.com\n",
      "alex.gray@amazon.co.uk\n"
     ]
    }
   ],
   "source": [
    "for email in emails:\n",
    "    print(email)"
   ]
  },
  {
   "cell_type": "code",
   "execution_count": null,
   "metadata": {},
   "outputs": [],
   "source": [
    "import os\n",
    "import shutil\n",
    "\n",
    "path = input(\"Enter the Path: \")\n",
    "files = os.listdir(path)\n",
    "\n",
    "for file in files:\n",
    "    filename, extention = os.path.splitext(file)\n",
    "    extention = extention[1:]\n",
    "\n",
    "    if os.path.exists(path+\"/\"+extention):\n",
    "        shutil.move(path+\"/\"+file, path+\"/\"+extention+\"/\"+file)\n",
    "\n",
    "    else:\n",
    "        os.makedirs(path+\"/\"+extention)\n",
    "        shutil.move(path+\"/\"+file, path+\"/\"+extention+\"/\"+file)"
   ]
  }
 ],
 "metadata": {
  "kernelspec": {
   "display_name": "base",
   "language": "python",
   "name": "python3"
  },
  "language_info": {
   "codemirror_mode": {
    "name": "ipython",
    "version": 3
   },
   "file_extension": ".py",
   "mimetype": "text/x-python",
   "name": "python",
   "nbconvert_exporter": "python",
   "pygments_lexer": "ipython3",
   "version": "3.12.4"
  }
 },
 "nbformat": 4,
 "nbformat_minor": 2
}
