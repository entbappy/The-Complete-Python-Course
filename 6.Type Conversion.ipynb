{
 "cells": [
  {
   "cell_type": "markdown",
   "id": "0d075168-1f6d-471e-8431-96c7da53f8db",
   "metadata": {},
   "source": [
    "#### Implicit - Internally by Python\n",
    "#### Explicit - By the Programmers"
   ]
  },
  {
   "cell_type": "code",
   "execution_count": 2,
   "id": "603f1858-fb5d-4d4d-8a6c-51e6b6eee69d",
   "metadata": {},
   "outputs": [
    {
     "name": "stdout",
     "output_type": "stream",
     "text": [
      "10.5\n"
     ]
    }
   ],
   "source": [
    "# Implicit\n",
    "\n",
    "print(5 + 5.5)"
   ]
  },
  {
   "cell_type": "code",
   "execution_count": 4,
   "id": "2113ff2e-f7cf-4b31-92ab-9b0b6119621d",
   "metadata": {},
   "outputs": [
    {
     "data": {
      "text/plain": [
       "int"
      ]
     },
     "execution_count": 4,
     "metadata": {},
     "output_type": "execute_result"
    }
   ],
   "source": [
    "type(5)"
   ]
  },
  {
   "cell_type": "code",
   "execution_count": 6,
   "id": "e478f8b9-cc82-4232-9d97-d7ccafab2352",
   "metadata": {},
   "outputs": [
    {
     "data": {
      "text/plain": [
       "float"
      ]
     },
     "execution_count": 6,
     "metadata": {},
     "output_type": "execute_result"
    }
   ],
   "source": [
    "type(5.5)"
   ]
  },
  {
   "cell_type": "code",
   "execution_count": 8,
   "id": "858d64a2-417c-472b-97ed-99ed63a29774",
   "metadata": {},
   "outputs": [
    {
     "ename": "TypeError",
     "evalue": "unsupported operand type(s) for +: 'int' and 'str'",
     "output_type": "error",
     "traceback": [
      "\u001b[1;31m---------------------------------------------------------------------------\u001b[0m",
      "\u001b[1;31mTypeError\u001b[0m                                 Traceback (most recent call last)",
      "Cell \u001b[1;32mIn[8], line 3\u001b[0m\n\u001b[0;32m      1\u001b[0m \u001b[38;5;66;03m# Explicit \u001b[39;00m\n\u001b[1;32m----> 3\u001b[0m \u001b[38;5;28mprint\u001b[39m(\u001b[38;5;241m4\u001b[39m \u001b[38;5;241m+\u001b[39m \u001b[38;5;124m\"\u001b[39m\u001b[38;5;124m4\u001b[39m\u001b[38;5;124m\"\u001b[39m)\n",
      "\u001b[1;31mTypeError\u001b[0m: unsupported operand type(s) for +: 'int' and 'str'"
     ]
    }
   ],
   "source": [
    "# Explicit \n",
    "\n",
    "print(4 + \"4\")"
   ]
  },
  {
   "cell_type": "code",
   "execution_count": 10,
   "id": "acc35928-2cdb-4d7a-aa3f-9a4163af0f79",
   "metadata": {},
   "outputs": [
    {
     "name": "stdout",
     "output_type": "stream",
     "text": [
      "8\n"
     ]
    }
   ],
   "source": [
    "print(4 + int(\"4\"))"
   ]
  },
  {
   "cell_type": "code",
   "execution_count": 18,
   "id": "2771b27b-efd2-4866-8c1d-2130b1cc759e",
   "metadata": {},
   "outputs": [],
   "source": [
    "num = \"34\"\n",
    "num = float(num)"
   ]
  },
  {
   "cell_type": "code",
   "execution_count": 20,
   "id": "372e094b-e30c-46d9-a601-4db1da3c35f2",
   "metadata": {},
   "outputs": [
    {
     "data": {
      "text/plain": [
       "float"
      ]
     },
     "execution_count": 20,
     "metadata": {},
     "output_type": "execute_result"
    }
   ],
   "source": [
    "type(num)"
   ]
  },
  {
   "cell_type": "code",
   "execution_count": 22,
   "id": "d4273475-7550-402f-9e49-810f4749bb8b",
   "metadata": {},
   "outputs": [
    {
     "data": {
      "text/plain": [
       "34.0"
      ]
     },
     "execution_count": 22,
     "metadata": {},
     "output_type": "execute_result"
    }
   ],
   "source": [
    "num"
   ]
  },
  {
   "cell_type": "code",
   "execution_count": 24,
   "id": "4f04f1e9-ded3-4acc-a6e8-912f2b053692",
   "metadata": {},
   "outputs": [],
   "source": [
    "num = 34.0\n",
    "num = int(num)"
   ]
  },
  {
   "cell_type": "code",
   "execution_count": 26,
   "id": "3032fe54-93a5-4096-91e7-b24140b98246",
   "metadata": {},
   "outputs": [
    {
     "data": {
      "text/plain": [
       "int"
      ]
     },
     "execution_count": 26,
     "metadata": {},
     "output_type": "execute_result"
    }
   ],
   "source": [
    "type(num)"
   ]
  },
  {
   "cell_type": "code",
   "execution_count": 28,
   "id": "679f2e4a-a748-4f9c-9d7c-58718b06ab5d",
   "metadata": {},
   "outputs": [
    {
     "data": {
      "text/plain": [
       "34"
      ]
     },
     "execution_count": 28,
     "metadata": {},
     "output_type": "execute_result"
    }
   ],
   "source": [
    "num"
   ]
  },
  {
   "cell_type": "code",
   "execution_count": 30,
   "id": "e51d4cab-4ddf-42af-9ce3-cca657de96f9",
   "metadata": {},
   "outputs": [],
   "source": [
    "num = 4+6j"
   ]
  },
  {
   "cell_type": "code",
   "execution_count": 32,
   "id": "0676a7fe-fa9e-4130-901a-f2e5743a736c",
   "metadata": {},
   "outputs": [
    {
     "data": {
      "text/plain": [
       "complex"
      ]
     },
     "execution_count": 32,
     "metadata": {},
     "output_type": "execute_result"
    }
   ],
   "source": [
    "type(num)"
   ]
  },
  {
   "cell_type": "code",
   "execution_count": 36,
   "id": "6fb65845-d337-4216-bea3-c11ad63cadc0",
   "metadata": {},
   "outputs": [
    {
     "ename": "TypeError",
     "evalue": "float() argument must be a string or a real number, not 'complex'",
     "output_type": "error",
     "traceback": [
      "\u001b[1;31m---------------------------------------------------------------------------\u001b[0m",
      "\u001b[1;31mTypeError\u001b[0m                                 Traceback (most recent call last)",
      "Cell \u001b[1;32mIn[36], line 1\u001b[0m\n\u001b[1;32m----> 1\u001b[0m \u001b[38;5;28mfloat\u001b[39m(num)\n",
      "\u001b[1;31mTypeError\u001b[0m: float() argument must be a string or a real number, not 'complex'"
     ]
    }
   ],
   "source": [
    "float(num)"
   ]
  },
  {
   "cell_type": "code",
   "execution_count": null,
   "id": "239d0086-dd5b-4761-a602-0738a9b5e1ff",
   "metadata": {},
   "outputs": [],
   "source": []
  }
 ],
 "metadata": {
  "kernelspec": {
   "display_name": "Python 3 (ipykernel)",
   "language": "python",
   "name": "python3"
  },
  "language_info": {
   "codemirror_mode": {
    "name": "ipython",
    "version": 3
   },
   "file_extension": ".py",
   "mimetype": "text/x-python",
   "name": "python",
   "nbconvert_exporter": "python",
   "pygments_lexer": "ipython3",
   "version": "3.12.4"
  }
 },
 "nbformat": 4,
 "nbformat_minor": 5
}
