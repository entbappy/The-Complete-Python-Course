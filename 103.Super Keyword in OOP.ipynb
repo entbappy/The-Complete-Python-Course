{
 "cells": [
  {
   "cell_type": "markdown",
   "metadata": {},
   "source": [
    "# Super Keyword in OOP"
   ]
  },
  {
   "cell_type": "code",
   "execution_count": 1,
   "metadata": {},
   "outputs": [
    {
     "name": "stdout",
     "output_type": "stream",
     "text": [
      "Inside Phone constructor\n",
      "Buying a Phone inside SmartPhone constructor\n",
      "Buying a Phone inside Phone constructor\n"
     ]
    }
   ],
   "source": [
    "class Phone:\n",
    "  def __init__(self, price, brand, camera):\n",
    "    print(\"Inside Phone constructor\")\n",
    "    self.__price = price\n",
    "    self.brand = brand\n",
    "    self.camera = camera\n",
    "\n",
    "  def get_price(self):\n",
    "     return self.__price\n",
    "\n",
    "\n",
    "  def buy(self):\n",
    "    print(\"Buying a Phone inside Phone constructor\")\n",
    "\n",
    "\n",
    "class SmartPhone(Phone):\n",
    "   def buy(self):\n",
    "    print(\"Buying a Phone inside SmartPhone constructor\")\n",
    "\n",
    "    super().buy()\n",
    "    \n",
    "\n",
    "S  = SmartPhone(200000, \"apple\", 3)\n",
    "S.buy()"
   ]
  },
  {
   "cell_type": "code",
   "execution_count": 2,
   "metadata": {},
   "outputs": [
    {
     "name": "stdout",
     "output_type": "stream",
     "text": [
      "Inside SmartPhone constructor\n",
      "Inside Phone constructor\n",
      "Samsung\n",
      "android\n",
      "200000\n"
     ]
    }
   ],
   "source": [
    "class Phone:\n",
    "  def __init__(self, price, brand, camera):\n",
    "    print(\"Inside Phone constructor\")\n",
    "    self.price = price\n",
    "    self.brand = brand\n",
    "    self.camera = camera\n",
    "\n",
    "\n",
    "class SmartPhone(Phone):\n",
    "\n",
    "  def __init__(self, price, brand, camera, os, ram):\n",
    "    print(\"Inside SmartPhone constructor\")\n",
    "    super().__init__(price, brand, camera)\n",
    "    self.os = os\n",
    "    self.ram = ram\n",
    "\n",
    "\n",
    "\n",
    "\n",
    "S  = SmartPhone(200000, \"Samsung\", 3, \"android\", 16)\n",
    "print(S.brand)\n",
    "print(S.os)\n",
    "print(S.price)"
   ]
  },
  {
   "cell_type": "code",
   "execution_count": null,
   "metadata": {},
   "outputs": [],
   "source": []
  }
 ],
 "metadata": {
  "kernelspec": {
   "display_name": "base",
   "language": "python",
   "name": "python3"
  },
  "language_info": {
   "codemirror_mode": {
    "name": "ipython",
    "version": 3
   },
   "file_extension": ".py",
   "mimetype": "text/x-python",
   "name": "python",
   "nbconvert_exporter": "python",
   "pygments_lexer": "ipython3",
   "version": "3.12.4"
  }
 },
 "nbformat": 4,
 "nbformat_minor": 2
}
