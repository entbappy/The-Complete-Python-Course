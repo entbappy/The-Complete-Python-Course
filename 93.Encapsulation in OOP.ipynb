{
 "cells": [
  {
   "cell_type": "markdown",
   "metadata": {},
   "source": [
    "# Encapsulation \n",
    "\n",
    "Encapsulation is a fundamental object-oriented principle in Python. It protects your classes from accidental changes or deletions and promotes code reusability and maintainability"
   ]
  },
  {
   "cell_type": "code",
   "execution_count": 1,
   "metadata": {},
   "outputs": [],
   "source": [
    "class Atm:\n",
    "\n",
    "  #constructor(special function) - superpower\n",
    "  def __init__(self):\n",
    "    self.pin = \"\"\n",
    "    self.balance = 0\n",
    "    # self.menu()\n",
    "\n",
    "\n",
    "  def menu(self):\n",
    "    user_input = input(\n",
    "        \"\"\"\n",
    "        Hi how can i help you?\n",
    "\n",
    "        1. Press 1 to create pin\n",
    "        2. Press 2 to change pin\n",
    "        3. Press 3 to check balence\n",
    "        4. Press 4 to withdraw\n",
    "        5. Anything to exit\n",
    "        \"\"\"\n",
    "    )\n",
    "\n",
    "    if user_input == '1':\n",
    "      #create a pin\n",
    "      self.create_pin()\n",
    "\n",
    "    elif user_input == '2':\n",
    "      #change pin\n",
    "      self.change_pin()\n",
    "\n",
    "    elif user_input == '3':\n",
    "      #check balnce\n",
    "      self.check_balance()\n",
    "\n",
    "    elif user_input == '4':\n",
    "      #withdraw\n",
    "      self.withdraw()\n",
    "\n",
    "    else:\n",
    "      exit()\n",
    "\n",
    "\n",
    "  def create_pin(self):\n",
    "    user_pin = input(\"Enter your pin: \")\n",
    "    self.pin = user_pin\n",
    "\n",
    "    user_balance = int(input(\"Enter Balance: \"))\n",
    "    self.balance = user_balance\n",
    "\n",
    "    print(\"Pin Created Successfully!\")\n",
    "    # self.menu()\n",
    "\n",
    "\n",
    "  def change_pin(self):\n",
    "    old_pin = input(\"Enter old pin: \")\n",
    "\n",
    "    if old_pin == self.pin:\n",
    "      #Let change the pin\n",
    "      new_pin = input(\"Enter new pin: \")\n",
    "      self.pin = new_pin\n",
    "      print(\"Pin changed Successfully!\")\n",
    "      # self.menu()\n",
    "\n",
    "    else:\n",
    "      print(\"Sorry you entered wrong pin.\")\n",
    "      # self.menu()\n",
    "\n",
    "\n",
    "\n",
    "\n",
    "  def check_balance(self):\n",
    "    user_pin = input(\"Enter your pin: \")\n",
    "    if user_pin == self.pin:\n",
    "      print(f\"Your balance is {self.balance}\")\n",
    "    else:\n",
    "      print(\"Your pin is correct, please try again\")\n",
    "    # self.menu()\n",
    "\n",
    "\n",
    "\n",
    "  def withdraw(self):\n",
    "    user_pin = input(\"Enter your pin: \")\n",
    "    if user_pin == self.pin:\n",
    "      # Allow to withdraw\n",
    "      amount = int(input(\"Enter the amount: \"))\n",
    "      if amount <= self.balance:\n",
    "        self.balance = self.balance - amount\n",
    "        print(f\"withdraw successfull and the current balance is {self.balance}\")\n",
    "\n",
    "      else:\n",
    "        print(\"You have insufficient balance\")\n",
    "\n",
    "\n",
    "    else:\n",
    "      print(\"Your pin is wrong!\")\n",
    "    # self.menu()\n"
   ]
  },
  {
   "cell_type": "code",
   "execution_count": 2,
   "metadata": {},
   "outputs": [],
   "source": [
    "obj = Atm()"
   ]
  },
  {
   "cell_type": "code",
   "execution_count": 7,
   "metadata": {},
   "outputs": [],
   "source": [
    "obj.balance = \"hello\""
   ]
  },
  {
   "cell_type": "code",
   "execution_count": 8,
   "metadata": {},
   "outputs": [
    {
     "name": "stdout",
     "output_type": "stream",
     "text": [
      "Your balance is hello\n"
     ]
    }
   ],
   "source": [
    "obj.check_balance()"
   ]
  },
  {
   "cell_type": "code",
   "execution_count": 9,
   "metadata": {},
   "outputs": [
    {
     "ename": "TypeError",
     "evalue": "'<=' not supported between instances of 'int' and 'str'",
     "output_type": "error",
     "traceback": [
      "\u001b[1;31m---------------------------------------------------------------------------\u001b[0m",
      "\u001b[1;31mTypeError\u001b[0m                                 Traceback (most recent call last)",
      "Cell \u001b[1;32mIn[9], line 1\u001b[0m\n\u001b[1;32m----> 1\u001b[0m obj\u001b[38;5;241m.\u001b[39mwithdraw()\n",
      "Cell \u001b[1;32mIn[1], line 86\u001b[0m, in \u001b[0;36mAtm.withdraw\u001b[1;34m(self)\u001b[0m\n\u001b[0;32m     83\u001b[0m \u001b[38;5;28;01mif\u001b[39;00m user_pin \u001b[38;5;241m==\u001b[39m \u001b[38;5;28mself\u001b[39m\u001b[38;5;241m.\u001b[39mpin:\n\u001b[0;32m     84\u001b[0m   \u001b[38;5;66;03m# Allow to withdraw\u001b[39;00m\n\u001b[0;32m     85\u001b[0m   amount \u001b[38;5;241m=\u001b[39m \u001b[38;5;28mint\u001b[39m(\u001b[38;5;28minput\u001b[39m(\u001b[38;5;124m\"\u001b[39m\u001b[38;5;124mEnter the amount: \u001b[39m\u001b[38;5;124m\"\u001b[39m))\n\u001b[1;32m---> 86\u001b[0m   \u001b[38;5;28;01mif\u001b[39;00m amount \u001b[38;5;241m<\u001b[39m\u001b[38;5;241m=\u001b[39m \u001b[38;5;28mself\u001b[39m\u001b[38;5;241m.\u001b[39mbalance:\n\u001b[0;32m     87\u001b[0m     \u001b[38;5;28mself\u001b[39m\u001b[38;5;241m.\u001b[39mbalance \u001b[38;5;241m=\u001b[39m \u001b[38;5;28mself\u001b[39m\u001b[38;5;241m.\u001b[39mbalance \u001b[38;5;241m-\u001b[39m amount\n\u001b[0;32m     88\u001b[0m     \u001b[38;5;28mprint\u001b[39m(\u001b[38;5;124mf\u001b[39m\u001b[38;5;124m\"\u001b[39m\u001b[38;5;124mwithdraw successfull and the current balance is \u001b[39m\u001b[38;5;132;01m{\u001b[39;00m\u001b[38;5;28mself\u001b[39m\u001b[38;5;241m.\u001b[39mbalance\u001b[38;5;132;01m}\u001b[39;00m\u001b[38;5;124m\"\u001b[39m)\n",
      "\u001b[1;31mTypeError\u001b[0m: '<=' not supported between instances of 'int' and 'str'"
     ]
    }
   ],
   "source": [
    "obj.withdraw()"
   ]
  },
  {
   "cell_type": "code",
   "execution_count": 1,
   "metadata": {},
   "outputs": [],
   "source": [
    "class Atm:\n",
    "\n",
    "  #constructor(special function) - superpower\n",
    "  def __init__(self):\n",
    "    self.pin = \"\"\n",
    "    self.__balance = 0 #private variable\n",
    "    # self.menu()\n",
    "\n",
    "\n",
    "  def __menu(self):\n",
    "    user_input = input(\n",
    "        \"\"\"\n",
    "        Hi how can i help you?\n",
    "\n",
    "        1. Press 1 to create pin\n",
    "        2. Press 2 to change pin\n",
    "        3. Press 3 to check balence\n",
    "        4. Press 4 to withdraw\n",
    "        5. Anything to exit\n",
    "        \"\"\"\n",
    "    )\n",
    "\n",
    "    if user_input == '1':\n",
    "      #create a pin\n",
    "      self.create_pin()\n",
    "\n",
    "    elif user_input == '2':\n",
    "      #change pin\n",
    "      self.change_pin()\n",
    "\n",
    "    elif user_input == '3':\n",
    "      #check balnce\n",
    "      self.check_balance()\n",
    "\n",
    "    elif user_input == '4':\n",
    "      #withdraw\n",
    "      self.withdraw()\n",
    "\n",
    "    else:\n",
    "      exit()\n",
    "\n",
    "\n",
    "  def create_pin(self):\n",
    "    user_pin = input(\"Enter your pin: \")\n",
    "    self.pin = user_pin\n",
    "\n",
    "    user_balance = int(input(\"Enter Balance: \"))\n",
    "    self.__balance = user_balance\n",
    "\n",
    "    print(\"Pin Created Successfully!\")\n",
    "    # self.menu()\n",
    "\n",
    "\n",
    "  def change_pin(self):\n",
    "    old_pin = input(\"Enter old pin: \")\n",
    "\n",
    "    if old_pin == self.pin:\n",
    "      #Let change the pin\n",
    "      new_pin = input(\"Enter new pin: \")\n",
    "      self.pin = new_pin\n",
    "      print(\"Pin changed Successfully!\")\n",
    "      # self.menu()\n",
    "\n",
    "    else:\n",
    "      print(\"Sorry you entered wrong pin.\")\n",
    "      # self.menu()\n",
    "\n",
    "\n",
    "\n",
    "\n",
    "  def check_balance(self):\n",
    "    user_pin = input(\"Enter your pin: \")\n",
    "    if user_pin == self.pin:\n",
    "      print(f\"Your balance is {self.__balance}\")\n",
    "    else:\n",
    "      print(\"Your pin is correct, please try again\")\n",
    "    # self.menu()\n",
    "\n",
    "\n",
    "\n",
    "  def withdraw(self):\n",
    "    user_pin = input(\"Enter your pin: \")\n",
    "    if user_pin == self.pin:\n",
    "      # Allow to withdraw\n",
    "      amount = int(input(\"Enter the amount: \"))\n",
    "      if amount <= self.__balance:\n",
    "        self.__balance = self.__balance - amount\n",
    "        print(f\"withdraw successfull and the current balance is {self.__balance}\")\n",
    "\n",
    "      else:\n",
    "        print(\"You have insufficient balance\")\n",
    "\n",
    "\n",
    "    else:\n",
    "      print(\"Your pin is wrong!\")\n",
    "    # self.menu()\n"
   ]
  },
  {
   "cell_type": "code",
   "execution_count": 2,
   "metadata": {},
   "outputs": [],
   "source": [
    "obj = Atm()"
   ]
  },
  {
   "cell_type": "code",
   "execution_count": 3,
   "metadata": {},
   "outputs": [
    {
     "name": "stdout",
     "output_type": "stream",
     "text": [
      "Pin Created Successfully!\n"
     ]
    }
   ],
   "source": [
    "obj.create_pin()"
   ]
  },
  {
   "cell_type": "code",
   "execution_count": 4,
   "metadata": {},
   "outputs": [],
   "source": [
    "obj.__balance = \"Hello\""
   ]
  },
  {
   "cell_type": "code",
   "execution_count": 5,
   "metadata": {},
   "outputs": [
    {
     "name": "stdout",
     "output_type": "stream",
     "text": [
      "Your balance is 4000\n"
     ]
    }
   ],
   "source": [
    "obj.check_balance()"
   ]
  },
  {
   "cell_type": "code",
   "execution_count": 6,
   "metadata": {},
   "outputs": [
    {
     "data": {
      "text/plain": [
       "'Hello'"
      ]
     },
     "execution_count": 6,
     "metadata": {},
     "output_type": "execute_result"
    }
   ],
   "source": [
    "obj.__balance"
   ]
  },
  {
   "cell_type": "code",
   "execution_count": 7,
   "metadata": {},
   "outputs": [
    {
     "data": {
      "text/plain": [
       "4000"
      ]
     },
     "execution_count": 7,
     "metadata": {},
     "output_type": "execute_result"
    }
   ],
   "source": [
    "obj._Atm__balance"
   ]
  },
  {
   "cell_type": "code",
   "execution_count": 8,
   "metadata": {},
   "outputs": [
    {
     "name": "stdout",
     "output_type": "stream",
     "text": [
      "withdraw successfull and the current balance is 3000\n"
     ]
    }
   ],
   "source": [
    "obj.withdraw()"
   ]
  },
  {
   "cell_type": "code",
   "execution_count": 9,
   "metadata": {},
   "outputs": [],
   "source": [
    "obj._Atm__balance = \"Hello\""
   ]
  },
  {
   "cell_type": "code",
   "execution_count": 10,
   "metadata": {},
   "outputs": [
    {
     "name": "stdout",
     "output_type": "stream",
     "text": [
      "Your balance is Hello\n"
     ]
    }
   ],
   "source": [
    "obj.check_balance()"
   ]
  },
  {
   "cell_type": "code",
   "execution_count": 11,
   "metadata": {},
   "outputs": [
    {
     "ename": "TypeError",
     "evalue": "'<=' not supported between instances of 'int' and 'str'",
     "output_type": "error",
     "traceback": [
      "\u001b[1;31m---------------------------------------------------------------------------\u001b[0m",
      "\u001b[1;31mTypeError\u001b[0m                                 Traceback (most recent call last)",
      "Cell \u001b[1;32mIn[11], line 1\u001b[0m\n\u001b[1;32m----> 1\u001b[0m obj\u001b[38;5;241m.\u001b[39mwithdraw()\n",
      "Cell \u001b[1;32mIn[1], line 86\u001b[0m, in \u001b[0;36mAtm.withdraw\u001b[1;34m(self)\u001b[0m\n\u001b[0;32m     83\u001b[0m \u001b[38;5;28;01mif\u001b[39;00m user_pin \u001b[38;5;241m==\u001b[39m \u001b[38;5;28mself\u001b[39m\u001b[38;5;241m.\u001b[39mpin:\n\u001b[0;32m     84\u001b[0m   \u001b[38;5;66;03m# Allow to withdraw\u001b[39;00m\n\u001b[0;32m     85\u001b[0m   amount \u001b[38;5;241m=\u001b[39m \u001b[38;5;28mint\u001b[39m(\u001b[38;5;28minput\u001b[39m(\u001b[38;5;124m\"\u001b[39m\u001b[38;5;124mEnter the amount: \u001b[39m\u001b[38;5;124m\"\u001b[39m))\n\u001b[1;32m---> 86\u001b[0m   \u001b[38;5;28;01mif\u001b[39;00m amount \u001b[38;5;241m<\u001b[39m\u001b[38;5;241m=\u001b[39m \u001b[38;5;28mself\u001b[39m\u001b[38;5;241m.\u001b[39m__balance:\n\u001b[0;32m     87\u001b[0m     \u001b[38;5;28mself\u001b[39m\u001b[38;5;241m.\u001b[39m__balance \u001b[38;5;241m=\u001b[39m \u001b[38;5;28mself\u001b[39m\u001b[38;5;241m.\u001b[39m__balance \u001b[38;5;241m-\u001b[39m amount\n\u001b[0;32m     88\u001b[0m     \u001b[38;5;28mprint\u001b[39m(\u001b[38;5;124mf\u001b[39m\u001b[38;5;124m\"\u001b[39m\u001b[38;5;124mwithdraw successfull and the current balance is \u001b[39m\u001b[38;5;132;01m{\u001b[39;00m\u001b[38;5;28mself\u001b[39m\u001b[38;5;241m.\u001b[39m__balance\u001b[38;5;132;01m}\u001b[39;00m\u001b[38;5;124m\"\u001b[39m)\n",
      "\u001b[1;31mTypeError\u001b[0m: '<=' not supported between instances of 'int' and 'str'"
     ]
    }
   ],
   "source": [
    "obj.withdraw()"
   ]
  },
  {
   "cell_type": "code",
   "execution_count": null,
   "metadata": {},
   "outputs": [],
   "source": [
    "## In Python nothing is too private\n",
    "# it is made for adults"
   ]
  }
 ],
 "metadata": {
  "kernelspec": {
   "display_name": "base",
   "language": "python",
   "name": "python3"
  },
  "language_info": {
   "codemirror_mode": {
    "name": "ipython",
    "version": 3
   },
   "file_extension": ".py",
   "mimetype": "text/x-python",
   "name": "python",
   "nbconvert_exporter": "python",
   "pygments_lexer": "ipython3",
   "version": "3.12.4"
  }
 },
 "nbformat": 4,
 "nbformat_minor": 2
}
