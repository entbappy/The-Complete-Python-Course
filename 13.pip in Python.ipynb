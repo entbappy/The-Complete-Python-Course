{
 "cells": [
  {
   "cell_type": "code",
   "execution_count": 6,
   "metadata": {},
   "outputs": [],
   "source": [
    "from fastapi import FastAPI\n",
    "\n",
    "app = FastAPI()\n",
    "\n",
    "\n",
    "@app.get(\"/\")\n",
    "async def root():\n",
    "    return {\"message\": \"Hello World\"}"
   ]
  },
  {
   "cell_type": "code",
   "execution_count": 5,
   "metadata": {},
   "outputs": [
    {
     "name": "stdout",
     "output_type": "stream",
     "text": [
      "Collecting fastapi\n",
      "  Downloading fastapi-0.111.1-py3-none-any.whl.metadata (26 kB)\n",
      "Collecting starlette<0.38.0,>=0.37.2 (from fastapi)\n",
      "  Using cached starlette-0.37.2-py3-none-any.whl.metadata (5.9 kB)\n",
      "Requirement already satisfied: pydantic!=1.8,!=1.8.1,!=2.0.0,!=2.0.1,!=2.1.0,<3.0.0,>=1.7.4 in c:\\anaconda3\\lib\\site-packages (from fastapi) (2.5.3)\n",
      "Requirement already satisfied: typing-extensions>=4.8.0 in c:\\anaconda3\\lib\\site-packages (from fastapi) (4.11.0)\n",
      "Collecting fastapi-cli>=0.0.2 (from fastapi)\n",
      "  Using cached fastapi_cli-0.0.4-py3-none-any.whl.metadata (7.0 kB)\n",
      "Requirement already satisfied: httpx>=0.23.0 in c:\\anaconda3\\lib\\site-packages (from fastapi) (0.26.0)\n",
      "Requirement already satisfied: jinja2>=2.11.2 in c:\\anaconda3\\lib\\site-packages (from fastapi) (3.1.4)\n",
      "Collecting python-multipart>=0.0.7 (from fastapi)\n",
      "  Using cached python_multipart-0.0.9-py3-none-any.whl.metadata (2.5 kB)\n",
      "Collecting email_validator>=2.0.0 (from fastapi)\n",
      "  Using cached email_validator-2.2.0-py3-none-any.whl.metadata (25 kB)\n",
      "Collecting uvicorn>=0.12.0 (from uvicorn[standard]>=0.12.0->fastapi)\n",
      "  Downloading uvicorn-0.30.4-py3-none-any.whl.metadata (6.6 kB)\n",
      "Collecting dnspython>=2.0.0 (from email_validator>=2.0.0->fastapi)\n",
      "  Using cached dnspython-2.6.1-py3-none-any.whl.metadata (5.8 kB)\n",
      "Requirement already satisfied: idna>=2.0.0 in c:\\anaconda3\\lib\\site-packages (from email_validator>=2.0.0->fastapi) (3.7)\n",
      "Collecting typer>=0.12.3 (from fastapi-cli>=0.0.2->fastapi)\n",
      "  Using cached typer-0.12.3-py3-none-any.whl.metadata (15 kB)\n",
      "Requirement already satisfied: anyio in c:\\anaconda3\\lib\\site-packages (from httpx>=0.23.0->fastapi) (4.2.0)\n",
      "Requirement already satisfied: certifi in c:\\anaconda3\\lib\\site-packages (from httpx>=0.23.0->fastapi) (2024.7.4)\n",
      "Requirement already satisfied: httpcore==1.* in c:\\anaconda3\\lib\\site-packages (from httpx>=0.23.0->fastapi) (1.0.2)\n",
      "Requirement already satisfied: sniffio in c:\\anaconda3\\lib\\site-packages (from httpx>=0.23.0->fastapi) (1.3.0)\n",
      "Requirement already satisfied: h11<0.15,>=0.13 in c:\\anaconda3\\lib\\site-packages (from httpcore==1.*->httpx>=0.23.0->fastapi) (0.14.0)\n",
      "Requirement already satisfied: MarkupSafe>=2.0 in c:\\anaconda3\\lib\\site-packages (from jinja2>=2.11.2->fastapi) (2.1.3)\n",
      "Requirement already satisfied: annotated-types>=0.4.0 in c:\\anaconda3\\lib\\site-packages (from pydantic!=1.8,!=1.8.1,!=2.0.0,!=2.0.1,!=2.1.0,<3.0.0,>=1.7.4->fastapi) (0.6.0)\n",
      "Requirement already satisfied: pydantic-core==2.14.6 in c:\\anaconda3\\lib\\site-packages (from pydantic!=1.8,!=1.8.1,!=2.0.0,!=2.0.1,!=2.1.0,<3.0.0,>=1.7.4->fastapi) (2.14.6)\n",
      "Requirement already satisfied: click>=7.0 in c:\\anaconda3\\lib\\site-packages (from uvicorn>=0.12.0->uvicorn[standard]>=0.12.0->fastapi) (8.1.7)\n",
      "Requirement already satisfied: colorama>=0.4 in c:\\anaconda3\\lib\\site-packages (from uvicorn[standard]>=0.12.0->fastapi) (0.4.6)\n",
      "Collecting httptools>=0.5.0 (from uvicorn[standard]>=0.12.0->fastapi)\n",
      "  Downloading httptools-0.6.1-cp312-cp312-win_amd64.whl.metadata (3.7 kB)\n",
      "Requirement already satisfied: python-dotenv>=0.13 in c:\\anaconda3\\lib\\site-packages (from uvicorn[standard]>=0.12.0->fastapi) (0.21.0)\n",
      "Requirement already satisfied: pyyaml>=5.1 in c:\\anaconda3\\lib\\site-packages (from uvicorn[standard]>=0.12.0->fastapi) (6.0.1)\n",
      "Collecting watchfiles>=0.13 (from uvicorn[standard]>=0.12.0->fastapi)\n",
      "  Downloading watchfiles-0.22.0-cp312-none-win_amd64.whl.metadata (5.0 kB)\n",
      "Collecting websockets>=10.4 (from uvicorn[standard]>=0.12.0->fastapi)\n",
      "  Downloading websockets-12.0-cp312-cp312-win_amd64.whl.metadata (6.8 kB)\n",
      "Collecting shellingham>=1.3.0 (from typer>=0.12.3->fastapi-cli>=0.0.2->fastapi)\n",
      "  Using cached shellingham-1.5.4-py2.py3-none-any.whl.metadata (3.5 kB)\n",
      "Requirement already satisfied: rich>=10.11.0 in c:\\anaconda3\\lib\\site-packages (from typer>=0.12.3->fastapi-cli>=0.0.2->fastapi) (13.3.5)\n",
      "Requirement already satisfied: markdown-it-py<3.0.0,>=2.2.0 in c:\\anaconda3\\lib\\site-packages (from rich>=10.11.0->typer>=0.12.3->fastapi-cli>=0.0.2->fastapi) (2.2.0)\n",
      "Requirement already satisfied: pygments<3.0.0,>=2.13.0 in c:\\anaconda3\\lib\\site-packages (from rich>=10.11.0->typer>=0.12.3->fastapi-cli>=0.0.2->fastapi) (2.15.1)\n",
      "Requirement already satisfied: mdurl~=0.1 in c:\\anaconda3\\lib\\site-packages (from markdown-it-py<3.0.0,>=2.2.0->rich>=10.11.0->typer>=0.12.3->fastapi-cli>=0.0.2->fastapi) (0.1.0)\n",
      "Downloading fastapi-0.111.1-py3-none-any.whl (92 kB)\n",
      "   ---------------------------------------- 0.0/92.2 kB ? eta -:--:--\n",
      "   ---- ----------------------------------- 10.2/92.2 kB ? eta -:--:--\n",
      "   ---------------------------------------- 92.2/92.2 kB 1.1 MB/s eta 0:00:00\n",
      "Using cached email_validator-2.2.0-py3-none-any.whl (33 kB)\n",
      "Using cached fastapi_cli-0.0.4-py3-none-any.whl (9.5 kB)\n",
      "Using cached python_multipart-0.0.9-py3-none-any.whl (22 kB)\n",
      "Using cached starlette-0.37.2-py3-none-any.whl (71 kB)\n",
      "Downloading uvicorn-0.30.4-py3-none-any.whl (62 kB)\n",
      "   ---------------------------------------- 0.0/62.8 kB ? eta -:--:--\n",
      "   -------------------------- ------------- 41.0/62.8 kB 2.0 MB/s eta 0:00:01\n",
      "   ---------------------------------------- 62.8/62.8 kB 1.1 MB/s eta 0:00:00\n",
      "Using cached dnspython-2.6.1-py3-none-any.whl (307 kB)\n",
      "Downloading httptools-0.6.1-cp312-cp312-win_amd64.whl (55 kB)\n",
      "   ---------------------------------------- 0.0/55.7 kB ? eta -:--:--\n",
      "   ---------------------------------------- 0.0/55.7 kB ? eta -:--:--\n",
      "   ---------------------------------------- 55.7/55.7 kB 2.8 MB/s eta 0:00:00\n",
      "Using cached typer-0.12.3-py3-none-any.whl (47 kB)\n",
      "Downloading watchfiles-0.22.0-cp312-none-win_amd64.whl (280 kB)\n",
      "   ---------------------------------------- 0.0/281.0 kB ? eta -:--:--\n",
      "   - -------------------------------------- 10.2/281.0 kB ? eta -:--:--\n",
      "   -------- ------------------------------ 61.4/281.0 kB 812.7 kB/s eta 0:00:01\n",
      "   -------- ------------------------------ 61.4/281.0 kB 812.7 kB/s eta 0:00:01\n",
      "   --------------- ---------------------- 112.6/281.0 kB 595.3 kB/s eta 0:00:01\n",
      "   --------------- ---------------------- 112.6/281.0 kB 595.3 kB/s eta 0:00:01\n",
      "   ------------------- ------------------ 143.4/281.0 kB 500.5 kB/s eta 0:00:01\n",
      "   -------------------- ----------------- 153.6/281.0 kB 458.0 kB/s eta 0:00:01\n",
      "   ----------------------- -------------- 174.1/281.0 kB 476.3 kB/s eta 0:00:01\n",
      "   -------------------------- ----------- 194.6/281.0 kB 471.4 kB/s eta 0:00:01\n",
      "   --------------------------- ---------- 204.8/281.0 kB 444.2 kB/s eta 0:00:01\n",
      "   ------------------------------ ------- 225.3/281.0 kB 443.4 kB/s eta 0:00:01\n",
      "   ------------------------------- ------ 235.5/281.0 kB 436.6 kB/s eta 0:00:01\n",
      "   ---------------------------------- --- 256.0/281.0 kB 449.3 kB/s eta 0:00:01\n",
      "   -------------------------------------- 281.0/281.0 kB 443.8 kB/s eta 0:00:00\n",
      "Downloading websockets-12.0-cp312-cp312-win_amd64.whl (124 kB)\n",
      "   ---------------------------------------- 0.0/125.0 kB ? eta -:--:--\n",
      "   --- ------------------------------------ 10.2/125.0 kB ? eta -:--:--\n",
      "   --------- ----------------------------- 30.7/125.0 kB 435.7 kB/s eta 0:00:01\n",
      "   ------------------- ------------------- 61.4/125.0 kB 409.6 kB/s eta 0:00:01\n",
      "   ---------------------- ---------------- 71.7/125.0 kB 438.9 kB/s eta 0:00:01\n",
      "   ---------------------------- ---------- 92.2/125.0 kB 438.1 kB/s eta 0:00:01\n",
      "   -------------------------------------- 125.0/125.0 kB 459.0 kB/s eta 0:00:00\n",
      "Using cached shellingham-1.5.4-py2.py3-none-any.whl (9.8 kB)\n",
      "Installing collected packages: websockets, shellingham, python-multipart, httptools, dnspython, watchfiles, uvicorn, starlette, email_validator, typer, fastapi-cli, fastapi\n",
      "Successfully installed dnspython-2.6.1 email_validator-2.2.0 fastapi-0.111.1 fastapi-cli-0.0.4 httptools-0.6.1 python-multipart-0.0.9 shellingham-1.5.4 starlette-0.37.2 typer-0.12.3 uvicorn-0.30.4 watchfiles-0.22.0 websockets-12.0\n"
     ]
    }
   ],
   "source": [
    "!pip install fastapi"
   ]
  },
  {
   "cell_type": "code",
   "execution_count": 7,
   "metadata": {},
   "outputs": [
    {
     "name": "stdout",
     "output_type": "stream",
     "text": [
      "^C\n"
     ]
    }
   ],
   "source": [
    "!pip uninstall fastapi"
   ]
  },
  {
   "cell_type": "code",
   "execution_count": null,
   "metadata": {},
   "outputs": [],
   "source": []
  }
 ],
 "metadata": {
  "kernelspec": {
   "display_name": "base",
   "language": "python",
   "name": "python3"
  },
  "language_info": {
   "codemirror_mode": {
    "name": "ipython",
    "version": 3
   },
   "file_extension": ".py",
   "mimetype": "text/x-python",
   "name": "python",
   "nbconvert_exporter": "python",
   "pygments_lexer": "ipython3",
   "version": "3.12.4"
  }
 },
 "nbformat": 4,
 "nbformat_minor": 2
}
