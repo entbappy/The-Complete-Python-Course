{
 "cells": [
  {
   "cell_type": "markdown",
   "metadata": {},
   "source": [
    "### 1. Update no of items available"
   ]
  },
  {
   "cell_type": "code",
   "execution_count": 5,
   "metadata": {},
   "outputs": [
    {
     "name": "stdout",
     "output_type": "stream",
     "text": [
      "Audi = 10\n",
      "BMW = 20\n",
      "TATA = 30\n",
      "Volvo = 5\n"
     ]
    }
   ],
   "source": [
    "cars_name = [\"Audi\", \"BMW\", \"TATA\", \"Volvo\"]\n",
    "no_of_cars = [10,20,30,5]\n",
    "\n",
    "for i,j in zip(cars_name, no_of_cars):\n",
    "    print(f\"{i} = {j}\")\n"
   ]
  },
  {
   "cell_type": "code",
   "execution_count": 6,
   "metadata": {},
   "outputs": [],
   "source": [
    "LC = [f\"{i} = {j}\" for i,j in zip(cars_name, no_of_cars)]"
   ]
  },
  {
   "cell_type": "code",
   "execution_count": 7,
   "metadata": {},
   "outputs": [
    {
     "data": {
      "text/plain": [
       "['Audi = 10', 'BMW = 20', 'TATA = 30', 'Volvo = 5']"
      ]
     },
     "execution_count": 7,
     "metadata": {},
     "output_type": "execute_result"
    }
   ],
   "source": [
    "LC"
   ]
  },
  {
   "cell_type": "markdown",
   "metadata": {},
   "source": [
    "### 2. You are given a list of integers. You are asked to make a list by running through elements of the list by adding all elements greater and itself."
   ]
  },
  {
   "cell_type": "code",
   "execution_count": 15,
   "metadata": {},
   "outputs": [
    {
     "name": "stdout",
     "output_type": "stream",
     "text": [
      "[22, 20, 16, 10, 23]\n"
     ]
    }
   ],
   "source": [
    "L = [2,4,6,10,1]\n",
    "\n",
    "result = []\n",
    "\n",
    "for i in L:\n",
    "    sum = 0\n",
    "    for j in L:\n",
    "        if i<=j:\n",
    "            sum = sum + j\n",
    "    result.append(sum)\n",
    "\n",
    "\n",
    "print(result)"
   ]
  },
  {
   "cell_type": "markdown",
   "metadata": {},
   "source": [
    "### 3. Find list of common unique items from two list. and show in increasing order\n"
   ]
  },
  {
   "cell_type": "code",
   "execution_count": 23,
   "metadata": {},
   "outputs": [
    {
     "name": "stdout",
     "output_type": "stream",
     "text": [
      "[67, 89, 34]\n"
     ]
    }
   ],
   "source": [
    "num1 = [23,45,67,78,89,34,67]\n",
    "num2 = [34,89,55,56,39,67,67]\n",
    "\n",
    "common = []\n",
    "\n",
    "for i in num1:\n",
    "    if i in num2:\n",
    "        if i not in common:\n",
    "            common.append(i)\n",
    "\n",
    "\n",
    "\n",
    "print(common)\n"
   ]
  },
  {
   "cell_type": "code",
   "execution_count": null,
   "metadata": {},
   "outputs": [],
   "source": []
  }
 ],
 "metadata": {
  "kernelspec": {
   "display_name": "base",
   "language": "python",
   "name": "python3"
  },
  "language_info": {
   "codemirror_mode": {
    "name": "ipython",
    "version": 3
   },
   "file_extension": ".py",
   "mimetype": "text/x-python",
   "name": "python",
   "nbconvert_exporter": "python",
   "pygments_lexer": "ipython3",
   "version": "3.12.4"
  }
 },
 "nbformat": 4,
 "nbformat_minor": 2
}
